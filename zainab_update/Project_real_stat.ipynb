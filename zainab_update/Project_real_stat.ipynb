{
 "cells": [
  {
   "cell_type": "code",
   "execution_count": 81,
   "id": "cab54ace",
   "metadata": {},
   "outputs": [
    {
     "name": "stdout",
     "output_type": "stream",
     "text": [
      "Requirement already satisfied: arabic-reshaper in c:\\users\\hp\\anaconda3\\lib\\site-packages (3.0.0)\n",
      "^C\n",
      "Requirement already satisfied: python-bidi in c:\\users\\hp\\anaconda3\\lib\\site-packages (0.4.2)\n",
      "Requirement already satisfied: six in c:\\users\\hp\\anaconda3\\lib\\site-packages (from python-bidi) (1.16.0)\n",
      "Requirement already satisfied: pandas-profiling in c:\\users\\hp\\anaconda3\\lib\\site-packages (3.6.6)\n",
      "Requirement already satisfied: ydata-profiling in c:\\users\\hp\\anaconda3\\lib\\site-packages (from pandas-profiling) (4.2.0)\n",
      "Requirement already satisfied: tqdm<5,>=4.48.2 in c:\\users\\hp\\anaconda3\\lib\\site-packages (from ydata-profiling->pandas-profiling) (4.64.1)\n",
      "Requirement already satisfied: statsmodels<1,>=0.13.2 in c:\\users\\hp\\anaconda3\\lib\\site-packages (from ydata-profiling->pandas-profiling) (0.13.5)\n",
      "Requirement already satisfied: requests<3,>=2.24.0 in c:\\users\\hp\\anaconda3\\lib\\site-packages (from ydata-profiling->pandas-profiling) (2.28.1)\n",
      "Requirement already satisfied: phik<0.13,>=0.11.1 in c:\\users\\hp\\anaconda3\\lib\\site-packages (from ydata-profiling->pandas-profiling) (0.12.3)\n",
      "Requirement already satisfied: typeguard<3,>=2.13.2 in c:\\users\\hp\\anaconda3\\lib\\site-packages (from ydata-profiling->pandas-profiling) (2.13.3)\n",
      "Requirement already satisfied: pydantic<2,>=1.8.1 in c:\\users\\hp\\anaconda3\\lib\\site-packages (from ydata-profiling->pandas-profiling) (1.10.8)\n",
      "Requirement already satisfied: jinja2<3.2,>=2.11.1 in c:\\users\\hp\\anaconda3\\lib\\site-packages (from ydata-profiling->pandas-profiling) (3.1.2)\n",
      "Requirement already satisfied: scipy<1.11,>=1.4.1 in c:\\users\\hp\\anaconda3\\lib\\site-packages (from ydata-profiling->pandas-profiling) (1.10.0)\n",
      "Requirement already satisfied: htmlmin==0.1.12 in c:\\users\\hp\\anaconda3\\lib\\site-packages (from ydata-profiling->pandas-profiling) (0.1.12)\n",
      "Requirement already satisfied: matplotlib<4,>=3.2 in c:\\users\\hp\\anaconda3\\lib\\site-packages (from ydata-profiling->pandas-profiling) (3.7.0)\n",
      "Requirement already satisfied: PyYAML<6.1,>=5.0.0 in c:\\users\\hp\\anaconda3\\lib\\site-packages (from ydata-profiling->pandas-profiling) (6.0)\n",
      "Requirement already satisfied: seaborn<0.13,>=0.10.1 in c:\\users\\hp\\anaconda3\\lib\\site-packages (from ydata-profiling->pandas-profiling) (0.12.2)\n",
      "Requirement already satisfied: wordcloud>=1.9.1 in c:\\users\\hp\\anaconda3\\lib\\site-packages (from ydata-profiling->pandas-profiling) (1.9.2)\n",
      "Requirement already satisfied: dacite>=1.8 in c:\\users\\hp\\anaconda3\\lib\\site-packages (from ydata-profiling->pandas-profiling) (1.8.1)\n",
      "Requirement already satisfied: visions[type_image_path]==0.7.5 in c:\\users\\hp\\anaconda3\\lib\\site-packages (from ydata-profiling->pandas-profiling) (0.7.5)\n",
      "Requirement already satisfied: numpy<1.24,>=1.16.0 in c:\\users\\hp\\anaconda3\\lib\\site-packages (from ydata-profiling->pandas-profiling) (1.23.5)\n",
      "Requirement already satisfied: pandas!=1.4.0,<2,>1.1 in c:\\users\\hp\\anaconda3\\lib\\site-packages (from ydata-profiling->pandas-profiling) (1.5.3)\n",
      "Requirement already satisfied: imagehash==4.3.1 in c:\\users\\hp\\anaconda3\\lib\\site-packages (from ydata-profiling->pandas-profiling) (4.3.1)\n",
      "Requirement already satisfied: multimethod<2,>=1.4 in c:\\users\\hp\\anaconda3\\lib\\site-packages (from ydata-profiling->pandas-profiling) (1.9.1)\n",
      "Requirement already satisfied: PyWavelets in c:\\users\\hp\\anaconda3\\lib\\site-packages (from imagehash==4.3.1->ydata-profiling->pandas-profiling) (1.4.1)\n",
      "Requirement already satisfied: pillow in c:\\users\\hp\\anaconda3\\lib\\site-packages (from imagehash==4.3.1->ydata-profiling->pandas-profiling) (9.4.0)\n",
      "Requirement already satisfied: networkx>=2.4 in c:\\users\\hp\\anaconda3\\lib\\site-packages (from visions[type_image_path]==0.7.5->ydata-profiling->pandas-profiling) (2.8.4)\n",
      "Requirement already satisfied: tangled-up-in-unicode>=0.0.4 in c:\\users\\hp\\anaconda3\\lib\\site-packages (from visions[type_image_path]==0.7.5->ydata-profiling->pandas-profiling) (0.2.0)\n",
      "Requirement already satisfied: attrs>=19.3.0 in c:\\users\\hp\\anaconda3\\lib\\site-packages (from visions[type_image_path]==0.7.5->ydata-profiling->pandas-profiling) (22.1.0)\n",
      "Requirement already satisfied: MarkupSafe>=2.0 in c:\\users\\hp\\anaconda3\\lib\\site-packages (from jinja2<3.2,>=2.11.1->ydata-profiling->pandas-profiling) (2.1.1)\n",
      "Requirement already satisfied: kiwisolver>=1.0.1 in c:\\users\\hp\\anaconda3\\lib\\site-packages (from matplotlib<4,>=3.2->ydata-profiling->pandas-profiling) (1.4.4)\n",
      "Requirement already satisfied: cycler>=0.10 in c:\\users\\hp\\anaconda3\\lib\\site-packages (from matplotlib<4,>=3.2->ydata-profiling->pandas-profiling) (0.11.0)\n",
      "Requirement already satisfied: packaging>=20.0 in c:\\users\\hp\\anaconda3\\lib\\site-packages (from matplotlib<4,>=3.2->ydata-profiling->pandas-profiling) (22.0)\n",
      "Requirement already satisfied: pyparsing>=2.3.1 in c:\\users\\hp\\anaconda3\\lib\\site-packages (from matplotlib<4,>=3.2->ydata-profiling->pandas-profiling) (3.0.9)\n",
      "Requirement already satisfied: python-dateutil>=2.7 in c:\\users\\hp\\anaconda3\\lib\\site-packages (from matplotlib<4,>=3.2->ydata-profiling->pandas-profiling) (2.8.2)\n",
      "Requirement already satisfied: fonttools>=4.22.0 in c:\\users\\hp\\anaconda3\\lib\\site-packages (from matplotlib<4,>=3.2->ydata-profiling->pandas-profiling) (4.25.0)\n",
      "Requirement already satisfied: contourpy>=1.0.1 in c:\\users\\hp\\anaconda3\\lib\\site-packages (from matplotlib<4,>=3.2->ydata-profiling->pandas-profiling) (1.0.5)\n",
      "Requirement already satisfied: pytz>=2020.1 in c:\\users\\hp\\anaconda3\\lib\\site-packages (from pandas!=1.4.0,<2,>1.1->ydata-profiling->pandas-profiling) (2022.7)\n",
      "Requirement already satisfied: joblib>=0.14.1 in c:\\users\\hp\\anaconda3\\lib\\site-packages (from phik<0.13,>=0.11.1->ydata-profiling->pandas-profiling) (1.1.1)\n",
      "Requirement already satisfied: typing-extensions>=4.2.0 in c:\\users\\hp\\anaconda3\\lib\\site-packages (from pydantic<2,>=1.8.1->ydata-profiling->pandas-profiling) (4.4.0)\n",
      "Requirement already satisfied: urllib3<1.27,>=1.21.1 in c:\\users\\hp\\anaconda3\\lib\\site-packages (from requests<3,>=2.24.0->ydata-profiling->pandas-profiling) (1.26.14)\n",
      "Requirement already satisfied: charset-normalizer<3,>=2 in c:\\users\\hp\\anaconda3\\lib\\site-packages (from requests<3,>=2.24.0->ydata-profiling->pandas-profiling) (2.0.4)\n",
      "Requirement already satisfied: certifi>=2017.4.17 in c:\\users\\hp\\anaconda3\\lib\\site-packages (from requests<3,>=2.24.0->ydata-profiling->pandas-profiling) (2022.12.7)\n",
      "Requirement already satisfied: idna<4,>=2.5 in c:\\users\\hp\\anaconda3\\lib\\site-packages (from requests<3,>=2.24.0->ydata-profiling->pandas-profiling) (3.4)\n",
      "Requirement already satisfied: patsy>=0.5.2 in c:\\users\\hp\\anaconda3\\lib\\site-packages (from statsmodels<1,>=0.13.2->ydata-profiling->pandas-profiling) (0.5.3)\n",
      "Requirement already satisfied: colorama in c:\\users\\hp\\anaconda3\\lib\\site-packages (from tqdm<5,>=4.48.2->ydata-profiling->pandas-profiling) (0.4.6)\n",
      "Requirement already satisfied: six in c:\\users\\hp\\anaconda3\\lib\\site-packages (from patsy>=0.5.2->statsmodels<1,>=0.13.2->ydata-profiling->pandas-profiling) (1.16.0)\n"
     ]
    }
   ],
   "source": [
    "import pandas as pd \n",
    "import matplotlib.pyplot as plt\n",
    "!pip install arabic-reshaper\n",
    "!pip install python-bidi\n",
    "!pip install pandas-profiling\n",
    "import arabic_reshaper\n",
    "from bidi.algorithm import get_display\n",
    "from pandas_profiling import ProfileReport\n"
   ]
  },
  {
   "cell_type": "code",
   "execution_count": 82,
   "id": "1b6c5055",
   "metadata": {},
   "outputs": [],
   "source": [
    "def get_top_50_names(names,Areaa):\n",
    "    i = Areaa\n",
    "    name_neighbour_above_50 = []\n",
    "    number_of_sales_above_50 = []\n",
    "\n",
    "    for name in names:\n",
    "        Count = i.loc[df_clean['Neighbourhood'] == name]\n",
    "        count = Count.shape[0]\n",
    "        if count > 50:\n",
    "            name_neighbour_above_50.append(name)\n",
    "            number_of_sales_above_50.append(count)\n",
    "\n",
    "    return name_neighbour_above_50, number_of_sales_above_50\n"
   ]
  },
  {
   "cell_type": "code",
   "execution_count": 83,
   "id": "239b13d5",
   "metadata": {},
   "outputs": [],
   "source": [
    "def calculate_average_price(name_list, data_frame):\n",
    "    averages = []\n",
    "    for name in name_list:\n",
    "        neighborhood_data = data_frame.loc[df_clean['Neighbourhood'] == name]\n",
    "        average_price = neighborhood_data['Price_per_meter'].mean()\n",
    "        averages.append(average_price)\n",
    "    return averages\n"
   ]
  },
  {
   "cell_type": "code",
   "execution_count": 84,
   "id": "7f46a799",
   "metadata": {},
   "outputs": [],
   "source": [
    "df= pd.read_csv('../Data/real_state_riyadh.csv')"
   ]
  },
  {
   "cell_type": "code",
   "execution_count": 85,
   "id": "e8d683f2",
   "metadata": {},
   "outputs": [
    {
     "data": {
      "text/html": [
       "<div>\n",
       "<style scoped>\n",
       "    .dataframe tbody tr th:only-of-type {\n",
       "        vertical-align: middle;\n",
       "    }\n",
       "\n",
       "    .dataframe tbody tr th {\n",
       "        vertical-align: top;\n",
       "    }\n",
       "\n",
       "    .dataframe thead th {\n",
       "        text-align: right;\n",
       "    }\n",
       "</style>\n",
       "<table border=\"1\" class=\"dataframe\">\n",
       "  <thead>\n",
       "    <tr style=\"text-align: right;\">\n",
       "      <th></th>\n",
       "      <th>Neighbourhood</th>\n",
       "      <th>Plannedـtransactionـdetails</th>\n",
       "      <th>Detailsـtransaction</th>\n",
       "      <th>Date</th>\n",
       "      <th>transactionـnumber</th>\n",
       "      <th>Total_price</th>\n",
       "      <th>Area</th>\n",
       "      <th>Price_per_meter</th>\n",
       "    </tr>\n",
       "  </thead>\n",
       "  <tbody>\n",
       "    <tr>\n",
       "      <th>0</th>\n",
       "      <td>10186 فى/ 28/ 7/ 142…</td>\n",
       "      <td>مخطط/3738</td>\n",
       "      <td>قطعة 176</td>\n",
       "      <td>Thursday, 13 January 2022</td>\n",
       "      <td>15906251</td>\n",
       "      <td>834782.0</td>\n",
       "      <td>642.14</td>\n",
       "      <td>1300.00</td>\n",
       "    </tr>\n",
       "    <tr>\n",
       "      <th>1</th>\n",
       "      <td>10186 فى/ 28/ 7/ 142…</td>\n",
       "      <td>مخطط/3738</td>\n",
       "      <td>قطعة 178</td>\n",
       "      <td>Thursday, 13 January 2022</td>\n",
       "      <td>15906446</td>\n",
       "      <td>780000.0</td>\n",
       "      <td>600.00</td>\n",
       "      <td>1300.00</td>\n",
       "    </tr>\n",
       "    <tr>\n",
       "      <th>2</th>\n",
       "      <td>10186 فى/ 28/ 7/ 142…</td>\n",
       "      <td>مخطط/3738</td>\n",
       "      <td>قطعة 180</td>\n",
       "      <td>Thursday, 13 January 2022</td>\n",
       "      <td>15906513</td>\n",
       "      <td>780000.0</td>\n",
       "      <td>600.00</td>\n",
       "      <td>1300.00</td>\n",
       "    </tr>\n",
       "    <tr>\n",
       "      <th>3</th>\n",
       "      <td>10186 فى/ 28/ 7/ 142…</td>\n",
       "      <td>مخطط/3738</td>\n",
       "      <td>قطعة 182</td>\n",
       "      <td>Thursday, 13 January 2022</td>\n",
       "      <td>15906597</td>\n",
       "      <td>780000.0</td>\n",
       "      <td>600.00</td>\n",
       "      <td>1300.00</td>\n",
       "    </tr>\n",
       "    <tr>\n",
       "      <th>4</th>\n",
       "      <td>10186 فى/ 28/ 7/ 142…</td>\n",
       "      <td>مخطط/3738</td>\n",
       "      <td>قطعة 184</td>\n",
       "      <td>Thursday, 13 January 2022</td>\n",
       "      <td>15906669</td>\n",
       "      <td>772688.0</td>\n",
       "      <td>594.38</td>\n",
       "      <td>1300.00</td>\n",
       "    </tr>\n",
       "  </tbody>\n",
       "</table>\n",
       "</div>"
      ],
      "text/plain": [
       "           Neighbourhood Plannedـtransactionـdetails Detailsـtransaction  \\\n",
       "0  10186 فى/ 28/ 7/ 142…                   مخطط/3738            قطعة 176   \n",
       "1  10186 فى/ 28/ 7/ 142…                   مخطط/3738            قطعة 178   \n",
       "2  10186 فى/ 28/ 7/ 142…                   مخطط/3738            قطعة 180   \n",
       "3  10186 فى/ 28/ 7/ 142…                   مخطط/3738            قطعة 182   \n",
       "4  10186 فى/ 28/ 7/ 142…                   مخطط/3738            قطعة 184   \n",
       "\n",
       "                         Date  transactionـnumber  Total_price    Area  \\\n",
       "0  Thursday, 13 January 2022             15906251     834782.0  642.14   \n",
       "1  Thursday, 13 January 2022             15906446     780000.0  600.00   \n",
       "2  Thursday, 13 January 2022             15906513     780000.0  600.00   \n",
       "3  Thursday, 13 January 2022             15906597     780000.0  600.00   \n",
       "4  Thursday, 13 January 2022             15906669     772688.0  594.38   \n",
       "\n",
       "  Price_per_meter  \n",
       "0         1300.00  \n",
       "1         1300.00  \n",
       "2         1300.00  \n",
       "3         1300.00  \n",
       "4         1300.00  "
      ]
     },
     "execution_count": 85,
     "metadata": {},
     "output_type": "execute_result"
    }
   ],
   "source": [
    "df.head()"
   ]
  },
  {
   "cell_type": "code",
   "execution_count": 86,
   "id": "1f2c8d2f",
   "metadata": {},
   "outputs": [
    {
     "name": "stdout",
     "output_type": "stream",
     "text": [
      "\n",
      "    shape of the dataFrame (14269, 8)\n",
      "    info for the dataFrame <bound method DataFrame.info of                Neighbourhood Plannedـtransactionـdetails Detailsـtransaction  \\\n",
      "0      10186 فى/ 28/ 7/ 142…                   مخطط/3738            قطعة 176   \n",
      "1      10186 فى/ 28/ 7/ 142…                   مخطط/3738            قطعة 178   \n",
      "2      10186 فى/ 28/ 7/ 142…                   مخطط/3738            قطعة 180   \n",
      "3      10186 فى/ 28/ 7/ 142…                   مخطط/3738            قطعة 182   \n",
      "4      10186 فى/ 28/ 7/ 142…                   مخطط/3738            قطعة 184   \n",
      "...                      ...                         ...                 ...   \n",
      "14264                  هدبان                   مخطط/2837          قطعة 256/2   \n",
      "14265                  هدبان                   مخطط/2837          قطعة 257/1   \n",
      "14266             وادى العرج                   مخطط/3242         قطعة 1965/2   \n",
      "14267                   واسط                   مخطط/3242         قطعة 1544/1   \n",
      "14268                   واسط                   مخطط/3242         قطعة 1545/1   \n",
      "\n",
      "                             Date  transactionـnumber  Total_price    Area  \\\n",
      "0      Thursday, 13 January 2022             15906251     834782.0  642.14   \n",
      "1      Thursday, 13 January 2022             15906446     780000.0  600.00   \n",
      "2      Thursday, 13 January 2022             15906513     780000.0  600.00   \n",
      "3      Thursday, 13 January 2022             15906597     780000.0  600.00   \n",
      "4      Thursday, 13 January 2022             15906669     772688.0  594.38   \n",
      "...                           ...                 ...          ...     ...   \n",
      "14264      Monday, 21 March 2022             16498618    2099475.0   399.9   \n",
      "14265      Monday, 21 March 2022             16498578    1959510.0   399.9   \n",
      "14266       Sunday, 6 March 2022             16359548     718750.0   312.5   \n",
      "14267   Wednesday, 30 March 2022             16609638     685000.0     300   \n",
      "14268      Tuesday, 8 March 2022             16383430     680000.0     300   \n",
      "\n",
      "      Price_per_meter  \n",
      "0             1300.00  \n",
      "1             1300.00  \n",
      "2             1300.00  \n",
      "3             1300.00  \n",
      "4             1300.00  \n",
      "...               ...  \n",
      "14264           5,250  \n",
      "14265           4,900  \n",
      "14266           2,300  \n",
      "14267           2,283  \n",
      "14268           2,267  \n",
      "\n",
      "[14269 rows x 8 columns]>\n",
      "    Null value 0\n",
      "\n"
     ]
    }
   ],
   "source": [
    "#Apply the essential EDA steps: head, shape, info, describe, missing values\n",
    "print('''\n",
    "    shape of the dataFrame {}\n",
    "    info for the dataFrame {}\n",
    "    Null value {}\n",
    "'''.format(df.shape,df.info,df.isnull().sum().sum()))"
   ]
  },
  {
   "cell_type": "code",
   "execution_count": 87,
   "id": "cbcedd62",
   "metadata": {},
   "outputs": [
    {
     "ename": "AttributeError",
     "evalue": "module networkx has no attribute topological_generations",
     "output_type": "error",
     "traceback": [
      "\u001b[1;31m---------------------------------------------------------------------------\u001b[0m",
      "\u001b[1;31mAttributeError\u001b[0m                            Traceback (most recent call last)",
      "Cell \u001b[1;32mIn[87], line 2\u001b[0m\n\u001b[0;32m      1\u001b[0m profile \u001b[38;5;241m=\u001b[39m ProfileReport(df)\n\u001b[1;32m----> 2\u001b[0m \u001b[43mprofile\u001b[49m\u001b[38;5;241;43m.\u001b[39;49m\u001b[43mto_notebook_iframe\u001b[49m\u001b[43m(\u001b[49m\u001b[43m)\u001b[49m\n",
      "File \u001b[1;32m~\\anaconda3\\lib\\site-packages\\typeguard\\__init__.py:1033\u001b[0m, in \u001b[0;36mtypechecked.<locals>.wrapper\u001b[1;34m(*args, **kwargs)\u001b[0m\n\u001b[0;32m   1031\u001b[0m memo \u001b[38;5;241m=\u001b[39m _CallMemo(python_func, _localns, args\u001b[38;5;241m=\u001b[39margs, kwargs\u001b[38;5;241m=\u001b[39mkwargs)\n\u001b[0;32m   1032\u001b[0m check_argument_types(memo)\n\u001b[1;32m-> 1033\u001b[0m retval \u001b[38;5;241m=\u001b[39m func(\u001b[38;5;241m*\u001b[39margs, \u001b[38;5;241m*\u001b[39m\u001b[38;5;241m*\u001b[39mkwargs)\n\u001b[0;32m   1034\u001b[0m \u001b[38;5;28;01mtry\u001b[39;00m:\n\u001b[0;32m   1035\u001b[0m     check_return_type(retval, memo)\n",
      "File \u001b[1;32m~\\anaconda3\\lib\\site-packages\\pandas_profiling\\profile_report.py:450\u001b[0m, in \u001b[0;36mProfileReport.to_notebook_iframe\u001b[1;34m(self)\u001b[0m\n\u001b[0;32m    448\u001b[0m \u001b[38;5;28;01mwith\u001b[39;00m warnings\u001b[38;5;241m.\u001b[39mcatch_warnings():\n\u001b[0;32m    449\u001b[0m     warnings\u001b[38;5;241m.\u001b[39msimplefilter(\u001b[38;5;124m\"\u001b[39m\u001b[38;5;124mignore\u001b[39m\u001b[38;5;124m\"\u001b[39m)\n\u001b[1;32m--> 450\u001b[0m     display(\u001b[43mget_notebook_iframe\u001b[49m\u001b[43m(\u001b[49m\u001b[38;5;28;43mself\u001b[39;49m\u001b[38;5;241;43m.\u001b[39;49m\u001b[43mconfig\u001b[49m\u001b[43m,\u001b[49m\u001b[43m \u001b[49m\u001b[38;5;28;43mself\u001b[39;49m\u001b[43m)\u001b[49m)\n",
      "File \u001b[1;32m~\\anaconda3\\lib\\site-packages\\pandas_profiling\\report\\presentation\\flavours\\widget\\notebook.py:75\u001b[0m, in \u001b[0;36mget_notebook_iframe\u001b[1;34m(config, profile)\u001b[0m\n\u001b[0;32m     73\u001b[0m     output \u001b[38;5;241m=\u001b[39m get_notebook_iframe_src(config, profile)\n\u001b[0;32m     74\u001b[0m \u001b[38;5;28;01melif\u001b[39;00m attribute \u001b[38;5;241m==\u001b[39m IframeAttribute\u001b[38;5;241m.\u001b[39msrcdoc:\n\u001b[1;32m---> 75\u001b[0m     output \u001b[38;5;241m=\u001b[39m \u001b[43mget_notebook_iframe_srcdoc\u001b[49m\u001b[43m(\u001b[49m\u001b[43mconfig\u001b[49m\u001b[43m,\u001b[49m\u001b[43m \u001b[49m\u001b[43mprofile\u001b[49m\u001b[43m)\u001b[49m\n\u001b[0;32m     76\u001b[0m \u001b[38;5;28;01melse\u001b[39;00m:\n\u001b[0;32m     77\u001b[0m     \u001b[38;5;28;01mraise\u001b[39;00m \u001b[38;5;167;01mValueError\u001b[39;00m(\n\u001b[0;32m     78\u001b[0m         \u001b[38;5;124mf\u001b[39m\u001b[38;5;124m'\u001b[39m\u001b[38;5;124mIframe Attribute can be \u001b[39m\u001b[38;5;124m\"\u001b[39m\u001b[38;5;124msrc\u001b[39m\u001b[38;5;124m\"\u001b[39m\u001b[38;5;124m or \u001b[39m\u001b[38;5;124m\"\u001b[39m\u001b[38;5;124msrcdoc\u001b[39m\u001b[38;5;124m\"\u001b[39m\u001b[38;5;124m (current: \u001b[39m\u001b[38;5;132;01m{\u001b[39;00mattribute\u001b[38;5;132;01m}\u001b[39;00m\u001b[38;5;124m).\u001b[39m\u001b[38;5;124m'\u001b[39m\n\u001b[0;32m     79\u001b[0m     )\n",
      "File \u001b[1;32m~\\anaconda3\\lib\\site-packages\\pandas_profiling\\report\\presentation\\flavours\\widget\\notebook.py:29\u001b[0m, in \u001b[0;36mget_notebook_iframe_srcdoc\u001b[1;34m(config, profile)\u001b[0m\n\u001b[0;32m     27\u001b[0m width \u001b[38;5;241m=\u001b[39m config\u001b[38;5;241m.\u001b[39mnotebook\u001b[38;5;241m.\u001b[39miframe\u001b[38;5;241m.\u001b[39mwidth\n\u001b[0;32m     28\u001b[0m height \u001b[38;5;241m=\u001b[39m config\u001b[38;5;241m.\u001b[39mnotebook\u001b[38;5;241m.\u001b[39miframe\u001b[38;5;241m.\u001b[39mheight\n\u001b[1;32m---> 29\u001b[0m src \u001b[38;5;241m=\u001b[39m html\u001b[38;5;241m.\u001b[39mescape(\u001b[43mprofile\u001b[49m\u001b[38;5;241;43m.\u001b[39;49m\u001b[43mto_html\u001b[49m\u001b[43m(\u001b[49m\u001b[43m)\u001b[49m)\n\u001b[0;32m     31\u001b[0m iframe \u001b[38;5;241m=\u001b[39m \u001b[38;5;124mf\u001b[39m\u001b[38;5;124m'\u001b[39m\u001b[38;5;124m<iframe width=\u001b[39m\u001b[38;5;124m\"\u001b[39m\u001b[38;5;132;01m{\u001b[39;00mwidth\u001b[38;5;132;01m}\u001b[39;00m\u001b[38;5;124m\"\u001b[39m\u001b[38;5;124m height=\u001b[39m\u001b[38;5;124m\"\u001b[39m\u001b[38;5;132;01m{\u001b[39;00mheight\u001b[38;5;132;01m}\u001b[39;00m\u001b[38;5;124m\"\u001b[39m\u001b[38;5;124m srcdoc=\u001b[39m\u001b[38;5;124m\"\u001b[39m\u001b[38;5;132;01m{\u001b[39;00msrc\u001b[38;5;132;01m}\u001b[39;00m\u001b[38;5;124m\"\u001b[39m\u001b[38;5;124m frameborder=\u001b[39m\u001b[38;5;124m\"\u001b[39m\u001b[38;5;124m0\u001b[39m\u001b[38;5;124m\"\u001b[39m\u001b[38;5;124m allowfullscreen></iframe>\u001b[39m\u001b[38;5;124m'\u001b[39m\n\u001b[0;32m     33\u001b[0m \u001b[38;5;28;01mreturn\u001b[39;00m HTML(iframe)\n",
      "File \u001b[1;32m~\\anaconda3\\lib\\site-packages\\typeguard\\__init__.py:1033\u001b[0m, in \u001b[0;36mtypechecked.<locals>.wrapper\u001b[1;34m(*args, **kwargs)\u001b[0m\n\u001b[0;32m   1031\u001b[0m memo \u001b[38;5;241m=\u001b[39m _CallMemo(python_func, _localns, args\u001b[38;5;241m=\u001b[39margs, kwargs\u001b[38;5;241m=\u001b[39mkwargs)\n\u001b[0;32m   1032\u001b[0m check_argument_types(memo)\n\u001b[1;32m-> 1033\u001b[0m retval \u001b[38;5;241m=\u001b[39m func(\u001b[38;5;241m*\u001b[39margs, \u001b[38;5;241m*\u001b[39m\u001b[38;5;241m*\u001b[39mkwargs)\n\u001b[0;32m   1034\u001b[0m \u001b[38;5;28;01mtry\u001b[39;00m:\n\u001b[0;32m   1035\u001b[0m     check_return_type(retval, memo)\n",
      "File \u001b[1;32m~\\anaconda3\\lib\\site-packages\\pandas_profiling\\profile_report.py:420\u001b[0m, in \u001b[0;36mProfileReport.to_html\u001b[1;34m(self)\u001b[0m\n\u001b[0;32m    412\u001b[0m \u001b[38;5;28;01mdef\u001b[39;00m \u001b[38;5;21mto_html\u001b[39m(\u001b[38;5;28mself\u001b[39m) \u001b[38;5;241m-\u001b[39m\u001b[38;5;241m>\u001b[39m \u001b[38;5;28mstr\u001b[39m:\n\u001b[0;32m    413\u001b[0m     \u001b[38;5;124;03m\"\"\"Generate and return complete template as lengthy string\u001b[39;00m\n\u001b[0;32m    414\u001b[0m \u001b[38;5;124;03m        for using with frameworks.\u001b[39;00m\n\u001b[0;32m    415\u001b[0m \n\u001b[1;32m   (...)\u001b[0m\n\u001b[0;32m    418\u001b[0m \n\u001b[0;32m    419\u001b[0m \u001b[38;5;124;03m    \"\"\"\u001b[39;00m\n\u001b[1;32m--> 420\u001b[0m     \u001b[38;5;28;01mreturn\u001b[39;00m \u001b[38;5;28;43mself\u001b[39;49m\u001b[38;5;241;43m.\u001b[39;49m\u001b[43mhtml\u001b[49m\n",
      "File \u001b[1;32m~\\anaconda3\\lib\\site-packages\\typeguard\\__init__.py:1033\u001b[0m, in \u001b[0;36mtypechecked.<locals>.wrapper\u001b[1;34m(*args, **kwargs)\u001b[0m\n\u001b[0;32m   1031\u001b[0m memo \u001b[38;5;241m=\u001b[39m _CallMemo(python_func, _localns, args\u001b[38;5;241m=\u001b[39margs, kwargs\u001b[38;5;241m=\u001b[39mkwargs)\n\u001b[0;32m   1032\u001b[0m check_argument_types(memo)\n\u001b[1;32m-> 1033\u001b[0m retval \u001b[38;5;241m=\u001b[39m func(\u001b[38;5;241m*\u001b[39margs, \u001b[38;5;241m*\u001b[39m\u001b[38;5;241m*\u001b[39mkwargs)\n\u001b[0;32m   1034\u001b[0m \u001b[38;5;28;01mtry\u001b[39;00m:\n\u001b[0;32m   1035\u001b[0m     check_return_type(retval, memo)\n",
      "File \u001b[1;32m~\\anaconda3\\lib\\site-packages\\pandas_profiling\\profile_report.py:231\u001b[0m, in \u001b[0;36mProfileReport.html\u001b[1;34m(self)\u001b[0m\n\u001b[0;32m    228\u001b[0m \u001b[38;5;129m@property\u001b[39m\n\u001b[0;32m    229\u001b[0m \u001b[38;5;28;01mdef\u001b[39;00m \u001b[38;5;21mhtml\u001b[39m(\u001b[38;5;28mself\u001b[39m) \u001b[38;5;241m-\u001b[39m\u001b[38;5;241m>\u001b[39m \u001b[38;5;28mstr\u001b[39m:\n\u001b[0;32m    230\u001b[0m     \u001b[38;5;28;01mif\u001b[39;00m \u001b[38;5;28mself\u001b[39m\u001b[38;5;241m.\u001b[39m_html \u001b[38;5;129;01mis\u001b[39;00m \u001b[38;5;28;01mNone\u001b[39;00m:\n\u001b[1;32m--> 231\u001b[0m         \u001b[38;5;28mself\u001b[39m\u001b[38;5;241m.\u001b[39m_html \u001b[38;5;241m=\u001b[39m \u001b[38;5;28;43mself\u001b[39;49m\u001b[38;5;241;43m.\u001b[39;49m\u001b[43m_render_html\u001b[49m\u001b[43m(\u001b[49m\u001b[43m)\u001b[49m\n\u001b[0;32m    232\u001b[0m     \u001b[38;5;28;01mreturn\u001b[39;00m \u001b[38;5;28mself\u001b[39m\u001b[38;5;241m.\u001b[39m_html\n",
      "File \u001b[1;32m~\\anaconda3\\lib\\site-packages\\typeguard\\__init__.py:1033\u001b[0m, in \u001b[0;36mtypechecked.<locals>.wrapper\u001b[1;34m(*args, **kwargs)\u001b[0m\n\u001b[0;32m   1031\u001b[0m memo \u001b[38;5;241m=\u001b[39m _CallMemo(python_func, _localns, args\u001b[38;5;241m=\u001b[39margs, kwargs\u001b[38;5;241m=\u001b[39mkwargs)\n\u001b[0;32m   1032\u001b[0m check_argument_types(memo)\n\u001b[1;32m-> 1033\u001b[0m retval \u001b[38;5;241m=\u001b[39m func(\u001b[38;5;241m*\u001b[39margs, \u001b[38;5;241m*\u001b[39m\u001b[38;5;241m*\u001b[39mkwargs)\n\u001b[0;32m   1034\u001b[0m \u001b[38;5;28;01mtry\u001b[39;00m:\n\u001b[0;32m   1035\u001b[0m     check_return_type(retval, memo)\n",
      "File \u001b[1;32m~\\anaconda3\\lib\\site-packages\\pandas_profiling\\profile_report.py:339\u001b[0m, in \u001b[0;36mProfileReport._render_html\u001b[1;34m(self)\u001b[0m\n\u001b[0;32m    336\u001b[0m \u001b[38;5;28;01mdef\u001b[39;00m \u001b[38;5;21m_render_html\u001b[39m(\u001b[38;5;28mself\u001b[39m) \u001b[38;5;241m-\u001b[39m\u001b[38;5;241m>\u001b[39m \u001b[38;5;28mstr\u001b[39m:\n\u001b[0;32m    337\u001b[0m     \u001b[38;5;28;01mfrom\u001b[39;00m \u001b[38;5;21;01mpandas_profiling\u001b[39;00m\u001b[38;5;21;01m.\u001b[39;00m\u001b[38;5;21;01mreport\u001b[39;00m\u001b[38;5;21;01m.\u001b[39;00m\u001b[38;5;21;01mpresentation\u001b[39;00m\u001b[38;5;21;01m.\u001b[39;00m\u001b[38;5;21;01mflavours\u001b[39;00m \u001b[38;5;28;01mimport\u001b[39;00m HTMLReport\n\u001b[1;32m--> 339\u001b[0m     report \u001b[38;5;241m=\u001b[39m \u001b[38;5;28;43mself\u001b[39;49m\u001b[38;5;241;43m.\u001b[39;49m\u001b[43mreport\u001b[49m\n\u001b[0;32m    341\u001b[0m     \u001b[38;5;28;01mwith\u001b[39;00m tqdm(\n\u001b[0;32m    342\u001b[0m         total\u001b[38;5;241m=\u001b[39m\u001b[38;5;241m1\u001b[39m, desc\u001b[38;5;241m=\u001b[39m\u001b[38;5;124m\"\u001b[39m\u001b[38;5;124mRender HTML\u001b[39m\u001b[38;5;124m\"\u001b[39m, disable\u001b[38;5;241m=\u001b[39m\u001b[38;5;129;01mnot\u001b[39;00m \u001b[38;5;28mself\u001b[39m\u001b[38;5;241m.\u001b[39mconfig\u001b[38;5;241m.\u001b[39mprogress_bar\n\u001b[0;32m    343\u001b[0m     ) \u001b[38;5;28;01mas\u001b[39;00m pbar:\n\u001b[0;32m    344\u001b[0m         html \u001b[38;5;241m=\u001b[39m HTMLReport(copy\u001b[38;5;241m.\u001b[39mdeepcopy(report))\u001b[38;5;241m.\u001b[39mrender(\n\u001b[0;32m    345\u001b[0m             nav\u001b[38;5;241m=\u001b[39m\u001b[38;5;28mself\u001b[39m\u001b[38;5;241m.\u001b[39mconfig\u001b[38;5;241m.\u001b[39mhtml\u001b[38;5;241m.\u001b[39mnavbar_show,\n\u001b[0;32m    346\u001b[0m             offline\u001b[38;5;241m=\u001b[39m\u001b[38;5;28mself\u001b[39m\u001b[38;5;241m.\u001b[39mconfig\u001b[38;5;241m.\u001b[39mhtml\u001b[38;5;241m.\u001b[39muse_local_assets,\n\u001b[1;32m   (...)\u001b[0m\n\u001b[0;32m    354\u001b[0m             version\u001b[38;5;241m=\u001b[39m\u001b[38;5;28mself\u001b[39m\u001b[38;5;241m.\u001b[39mdescription_set[\u001b[38;5;124m\"\u001b[39m\u001b[38;5;124mpackage\u001b[39m\u001b[38;5;124m\"\u001b[39m][\u001b[38;5;124m\"\u001b[39m\u001b[38;5;124mpandas_profiling_version\u001b[39m\u001b[38;5;124m\"\u001b[39m],\n\u001b[0;32m    355\u001b[0m         )\n",
      "File \u001b[1;32m~\\anaconda3\\lib\\site-packages\\typeguard\\__init__.py:1033\u001b[0m, in \u001b[0;36mtypechecked.<locals>.wrapper\u001b[1;34m(*args, **kwargs)\u001b[0m\n\u001b[0;32m   1031\u001b[0m memo \u001b[38;5;241m=\u001b[39m _CallMemo(python_func, _localns, args\u001b[38;5;241m=\u001b[39margs, kwargs\u001b[38;5;241m=\u001b[39mkwargs)\n\u001b[0;32m   1032\u001b[0m check_argument_types(memo)\n\u001b[1;32m-> 1033\u001b[0m retval \u001b[38;5;241m=\u001b[39m func(\u001b[38;5;241m*\u001b[39margs, \u001b[38;5;241m*\u001b[39m\u001b[38;5;241m*\u001b[39mkwargs)\n\u001b[0;32m   1034\u001b[0m \u001b[38;5;28;01mtry\u001b[39;00m:\n\u001b[0;32m   1035\u001b[0m     check_return_type(retval, memo)\n",
      "File \u001b[1;32m~\\anaconda3\\lib\\site-packages\\pandas_profiling\\profile_report.py:225\u001b[0m, in \u001b[0;36mProfileReport.report\u001b[1;34m(self)\u001b[0m\n\u001b[0;32m    222\u001b[0m \u001b[38;5;129m@property\u001b[39m\n\u001b[0;32m    223\u001b[0m \u001b[38;5;28;01mdef\u001b[39;00m \u001b[38;5;21mreport\u001b[39m(\u001b[38;5;28mself\u001b[39m) \u001b[38;5;241m-\u001b[39m\u001b[38;5;241m>\u001b[39m Root:\n\u001b[0;32m    224\u001b[0m     \u001b[38;5;28;01mif\u001b[39;00m \u001b[38;5;28mself\u001b[39m\u001b[38;5;241m.\u001b[39m_report \u001b[38;5;129;01mis\u001b[39;00m \u001b[38;5;28;01mNone\u001b[39;00m:\n\u001b[1;32m--> 225\u001b[0m         \u001b[38;5;28mself\u001b[39m\u001b[38;5;241m.\u001b[39m_report \u001b[38;5;241m=\u001b[39m get_report_structure(\u001b[38;5;28mself\u001b[39m\u001b[38;5;241m.\u001b[39mconfig, \u001b[38;5;28;43mself\u001b[39;49m\u001b[38;5;241;43m.\u001b[39;49m\u001b[43mdescription_set\u001b[49m)\n\u001b[0;32m    226\u001b[0m     \u001b[38;5;28;01mreturn\u001b[39;00m \u001b[38;5;28mself\u001b[39m\u001b[38;5;241m.\u001b[39m_report\n",
      "File \u001b[1;32m~\\anaconda3\\lib\\site-packages\\typeguard\\__init__.py:1033\u001b[0m, in \u001b[0;36mtypechecked.<locals>.wrapper\u001b[1;34m(*args, **kwargs)\u001b[0m\n\u001b[0;32m   1031\u001b[0m memo \u001b[38;5;241m=\u001b[39m _CallMemo(python_func, _localns, args\u001b[38;5;241m=\u001b[39margs, kwargs\u001b[38;5;241m=\u001b[39mkwargs)\n\u001b[0;32m   1032\u001b[0m check_argument_types(memo)\n\u001b[1;32m-> 1033\u001b[0m retval \u001b[38;5;241m=\u001b[39m func(\u001b[38;5;241m*\u001b[39margs, \u001b[38;5;241m*\u001b[39m\u001b[38;5;241m*\u001b[39mkwargs)\n\u001b[0;32m   1034\u001b[0m \u001b[38;5;28;01mtry\u001b[39;00m:\n\u001b[0;32m   1035\u001b[0m     check_return_type(retval, memo)\n",
      "File \u001b[1;32m~\\anaconda3\\lib\\site-packages\\pandas_profiling\\profile_report.py:210\u001b[0m, in \u001b[0;36mProfileReport.description_set\u001b[1;34m(self)\u001b[0m\n\u001b[0;32m    204\u001b[0m \u001b[38;5;129m@property\u001b[39m\n\u001b[0;32m    205\u001b[0m \u001b[38;5;28;01mdef\u001b[39;00m \u001b[38;5;21mdescription_set\u001b[39m(\u001b[38;5;28mself\u001b[39m) \u001b[38;5;241m-\u001b[39m\u001b[38;5;241m>\u001b[39m Dict[\u001b[38;5;28mstr\u001b[39m, Any]:\n\u001b[0;32m    206\u001b[0m     \u001b[38;5;28;01mif\u001b[39;00m \u001b[38;5;28mself\u001b[39m\u001b[38;5;241m.\u001b[39m_description_set \u001b[38;5;129;01mis\u001b[39;00m \u001b[38;5;28;01mNone\u001b[39;00m:\n\u001b[0;32m    207\u001b[0m         \u001b[38;5;28mself\u001b[39m\u001b[38;5;241m.\u001b[39m_description_set \u001b[38;5;241m=\u001b[39m describe_df(\n\u001b[0;32m    208\u001b[0m             \u001b[38;5;28mself\u001b[39m\u001b[38;5;241m.\u001b[39mconfig,\n\u001b[0;32m    209\u001b[0m             \u001b[38;5;28mself\u001b[39m\u001b[38;5;241m.\u001b[39mdf,\n\u001b[1;32m--> 210\u001b[0m             \u001b[38;5;28;43mself\u001b[39;49m\u001b[38;5;241;43m.\u001b[39;49m\u001b[43msummarizer\u001b[49m,\n\u001b[0;32m    211\u001b[0m             \u001b[38;5;28mself\u001b[39m\u001b[38;5;241m.\u001b[39mtypeset,\n\u001b[0;32m    212\u001b[0m             \u001b[38;5;28mself\u001b[39m\u001b[38;5;241m.\u001b[39m_sample,\n\u001b[0;32m    213\u001b[0m         )\n\u001b[0;32m    214\u001b[0m     \u001b[38;5;28;01mreturn\u001b[39;00m \u001b[38;5;28mself\u001b[39m\u001b[38;5;241m.\u001b[39m_description_set\n",
      "File \u001b[1;32m~\\anaconda3\\lib\\site-packages\\typeguard\\__init__.py:1033\u001b[0m, in \u001b[0;36mtypechecked.<locals>.wrapper\u001b[1;34m(*args, **kwargs)\u001b[0m\n\u001b[0;32m   1031\u001b[0m memo \u001b[38;5;241m=\u001b[39m _CallMemo(python_func, _localns, args\u001b[38;5;241m=\u001b[39margs, kwargs\u001b[38;5;241m=\u001b[39mkwargs)\n\u001b[0;32m   1032\u001b[0m check_argument_types(memo)\n\u001b[1;32m-> 1033\u001b[0m retval \u001b[38;5;241m=\u001b[39m func(\u001b[38;5;241m*\u001b[39margs, \u001b[38;5;241m*\u001b[39m\u001b[38;5;241m*\u001b[39mkwargs)\n\u001b[0;32m   1034\u001b[0m \u001b[38;5;28;01mtry\u001b[39;00m:\n\u001b[0;32m   1035\u001b[0m     check_return_type(retval, memo)\n",
      "File \u001b[1;32m~\\anaconda3\\lib\\site-packages\\pandas_profiling\\profile_report.py:201\u001b[0m, in \u001b[0;36mProfileReport.summarizer\u001b[1;34m(self)\u001b[0m\n\u001b[0;32m    198\u001b[0m \u001b[38;5;129m@property\u001b[39m\n\u001b[0;32m    199\u001b[0m \u001b[38;5;28;01mdef\u001b[39;00m \u001b[38;5;21msummarizer\u001b[39m(\u001b[38;5;28mself\u001b[39m) \u001b[38;5;241m-\u001b[39m\u001b[38;5;241m>\u001b[39m BaseSummarizer:\n\u001b[0;32m    200\u001b[0m     \u001b[38;5;28;01mif\u001b[39;00m \u001b[38;5;28mself\u001b[39m\u001b[38;5;241m.\u001b[39m_summarizer \u001b[38;5;129;01mis\u001b[39;00m \u001b[38;5;28;01mNone\u001b[39;00m:\n\u001b[1;32m--> 201\u001b[0m         \u001b[38;5;28mself\u001b[39m\u001b[38;5;241m.\u001b[39m_summarizer \u001b[38;5;241m=\u001b[39m PandasProfilingSummarizer(\u001b[38;5;28;43mself\u001b[39;49m\u001b[38;5;241;43m.\u001b[39;49m\u001b[43mtypeset\u001b[49m)\n\u001b[0;32m    202\u001b[0m     \u001b[38;5;28;01mreturn\u001b[39;00m \u001b[38;5;28mself\u001b[39m\u001b[38;5;241m.\u001b[39m_summarizer\n",
      "File \u001b[1;32m~\\anaconda3\\lib\\site-packages\\typeguard\\__init__.py:1033\u001b[0m, in \u001b[0;36mtypechecked.<locals>.wrapper\u001b[1;34m(*args, **kwargs)\u001b[0m\n\u001b[0;32m   1031\u001b[0m memo \u001b[38;5;241m=\u001b[39m _CallMemo(python_func, _localns, args\u001b[38;5;241m=\u001b[39margs, kwargs\u001b[38;5;241m=\u001b[39mkwargs)\n\u001b[0;32m   1032\u001b[0m check_argument_types(memo)\n\u001b[1;32m-> 1033\u001b[0m retval \u001b[38;5;241m=\u001b[39m func(\u001b[38;5;241m*\u001b[39margs, \u001b[38;5;241m*\u001b[39m\u001b[38;5;241m*\u001b[39mkwargs)\n\u001b[0;32m   1034\u001b[0m \u001b[38;5;28;01mtry\u001b[39;00m:\n\u001b[0;32m   1035\u001b[0m     check_return_type(retval, memo)\n",
      "File \u001b[1;32m~\\anaconda3\\lib\\site-packages\\pandas_profiling\\profile_report.py:195\u001b[0m, in \u001b[0;36mProfileReport.typeset\u001b[1;34m(self)\u001b[0m\n\u001b[0;32m    192\u001b[0m \u001b[38;5;129m@property\u001b[39m\n\u001b[0;32m    193\u001b[0m \u001b[38;5;28;01mdef\u001b[39;00m \u001b[38;5;21mtypeset\u001b[39m(\u001b[38;5;28mself\u001b[39m) \u001b[38;5;241m-\u001b[39m\u001b[38;5;241m>\u001b[39m Optional[VisionsTypeset]:\n\u001b[0;32m    194\u001b[0m     \u001b[38;5;28;01mif\u001b[39;00m \u001b[38;5;28mself\u001b[39m\u001b[38;5;241m.\u001b[39m_typeset \u001b[38;5;129;01mis\u001b[39;00m \u001b[38;5;28;01mNone\u001b[39;00m:\n\u001b[1;32m--> 195\u001b[0m         \u001b[38;5;28mself\u001b[39m\u001b[38;5;241m.\u001b[39m_typeset \u001b[38;5;241m=\u001b[39m \u001b[43mProfilingTypeSet\u001b[49m\u001b[43m(\u001b[49m\u001b[38;5;28;43mself\u001b[39;49m\u001b[38;5;241;43m.\u001b[39;49m\u001b[43mconfig\u001b[49m\u001b[43m)\u001b[49m\n\u001b[0;32m    196\u001b[0m     \u001b[38;5;28;01mreturn\u001b[39;00m \u001b[38;5;28mself\u001b[39m\u001b[38;5;241m.\u001b[39m_typeset\n",
      "File \u001b[1;32m~\\anaconda3\\lib\\site-packages\\pandas_profiling\\model\\typeset.py:251\u001b[0m, in \u001b[0;36mProfilingTypeSet.__init__\u001b[1;34m(self, config)\u001b[0m\n\u001b[0;32m    249\u001b[0m \u001b[38;5;28;01mwith\u001b[39;00m warnings\u001b[38;5;241m.\u001b[39mcatch_warnings():\n\u001b[0;32m    250\u001b[0m     warnings\u001b[38;5;241m.\u001b[39mfilterwarnings(\u001b[38;5;124m\"\u001b[39m\u001b[38;5;124mignore\u001b[39m\u001b[38;5;124m\"\u001b[39m, category\u001b[38;5;241m=\u001b[39m\u001b[38;5;167;01mUserWarning\u001b[39;00m)\n\u001b[1;32m--> 251\u001b[0m     \u001b[38;5;28;43msuper\u001b[39;49m\u001b[43m(\u001b[49m\u001b[43m)\u001b[49m\u001b[38;5;241;43m.\u001b[39;49m\u001b[38;5;21;43m__init__\u001b[39;49m\u001b[43m(\u001b[49m\u001b[43mtypes\u001b[49m\u001b[43m)\u001b[49m\n",
      "File \u001b[1;32m~\\anaconda3\\lib\\site-packages\\visions\\typesets\\typeset.py:241\u001b[0m, in \u001b[0;36mVisionsTypeset.__init__\u001b[1;34m(self, types)\u001b[0m\n\u001b[0;32m    238\u001b[0m \u001b[38;5;28;01mif\u001b[39;00m \u001b[38;5;129;01mnot\u001b[39;00m \u001b[38;5;28misinstance\u001b[39m(types, Iterable):\n\u001b[0;32m    239\u001b[0m     \u001b[38;5;28;01mraise\u001b[39;00m \u001b[38;5;167;01mValueError\u001b[39;00m(\u001b[38;5;124m\"\u001b[39m\u001b[38;5;124mtypes should be Sequence\u001b[39m\u001b[38;5;124m\"\u001b[39m)\n\u001b[1;32m--> 241\u001b[0m \u001b[38;5;28mself\u001b[39m\u001b[38;5;241m.\u001b[39mrelation_graph, \u001b[38;5;28mself\u001b[39m\u001b[38;5;241m.\u001b[39mbase_graph \u001b[38;5;241m=\u001b[39m \u001b[43mbuild_graph\u001b[49m\u001b[43m(\u001b[49m\u001b[38;5;28;43mset\u001b[39;49m\u001b[43m(\u001b[49m\u001b[43mtypes\u001b[49m\u001b[43m)\u001b[49m\u001b[43m)\u001b[49m\n\u001b[0;32m    243\u001b[0m \u001b[38;5;28;01mif\u001b[39;00m \u001b[38;5;129;01mnot\u001b[39;00m \u001b[38;5;28missubclass\u001b[39m(\u001b[38;5;28mself\u001b[39m\u001b[38;5;241m.\u001b[39mroot_node, Generic):\n\u001b[0;32m    244\u001b[0m     \u001b[38;5;28;01mraise\u001b[39;00m \u001b[38;5;167;01mValueError\u001b[39;00m(\u001b[38;5;124m\"\u001b[39m\u001b[38;5;124m`root_node` should be a subclass of Generic\u001b[39m\u001b[38;5;124m\"\u001b[39m)\n",
      "File \u001b[1;32m~\\anaconda3\\lib\\site-packages\\visions\\typesets\\typeset.py:69\u001b[0m, in \u001b[0;36mbuild_graph\u001b[1;34m(nodes)\u001b[0m\n\u001b[0;32m     66\u001b[0m             \u001b[38;5;28;01mif\u001b[39;00m \u001b[38;5;129;01mnot\u001b[39;00m relation\u001b[38;5;241m.\u001b[39minferential:\n\u001b[0;32m     67\u001b[0m                 noninferential_edges\u001b[38;5;241m.\u001b[39mappend((relation\u001b[38;5;241m.\u001b[39mrelated_type, relation\u001b[38;5;241m.\u001b[39mtype))\n\u001b[1;32m---> 69\u001b[0m \u001b[43mcheck_graph_constraints\u001b[49m\u001b[43m(\u001b[49m\u001b[43mrelation_graph\u001b[49m\u001b[43m)\u001b[49m\n\u001b[0;32m     71\u001b[0m base_graph \u001b[38;5;241m=\u001b[39m relation_graph\u001b[38;5;241m.\u001b[39medge_subgraph(noninferential_edges)\n\u001b[0;32m     72\u001b[0m \u001b[38;5;28;01mreturn\u001b[39;00m relation_graph, base_graph\n",
      "File \u001b[1;32m~\\anaconda3\\lib\\site-packages\\visions\\typesets\\typeset.py:82\u001b[0m, in \u001b[0;36mcheck_graph_constraints\u001b[1;34m(relation_graph)\u001b[0m\n\u001b[0;32m     75\u001b[0m \u001b[38;5;28;01mdef\u001b[39;00m \u001b[38;5;21mcheck_graph_constraints\u001b[39m(relation_graph: nx\u001b[38;5;241m.\u001b[39mDiGraph) \u001b[38;5;241m-\u001b[39m\u001b[38;5;241m>\u001b[39m \u001b[38;5;28;01mNone\u001b[39;00m:\n\u001b[0;32m     76\u001b[0m     \u001b[38;5;124;03m\"\"\"Validates a relation_graph is appropriately constructed\u001b[39;00m\n\u001b[0;32m     77\u001b[0m \n\u001b[0;32m     78\u001b[0m \u001b[38;5;124;03m    Args:\u001b[39;00m\n\u001b[0;32m     79\u001b[0m \u001b[38;5;124;03m        relation_graph: A directed graph representing the set of relations between type nodes.\u001b[39;00m\n\u001b[0;32m     80\u001b[0m \n\u001b[0;32m     81\u001b[0m \u001b[38;5;124;03m    \"\"\"\u001b[39;00m\n\u001b[1;32m---> 82\u001b[0m     \u001b[43mcheck_isolates\u001b[49m\u001b[43m(\u001b[49m\u001b[43mrelation_graph\u001b[49m\u001b[43m)\u001b[49m\n\u001b[0;32m     83\u001b[0m     check_cycles(relation_graph)\n",
      "File \u001b[1;32m~\\anaconda3\\lib\\site-packages\\visions\\typesets\\typeset.py:94\u001b[0m, in \u001b[0;36mcheck_isolates\u001b[1;34m(graph)\u001b[0m\n\u001b[0;32m     87\u001b[0m \u001b[38;5;124;03m\"\"\"Check for orphaned nodes.\u001b[39;00m\n\u001b[0;32m     88\u001b[0m \n\u001b[0;32m     89\u001b[0m \u001b[38;5;124;03mArgs:\u001b[39;00m\n\u001b[0;32m     90\u001b[0m \u001b[38;5;124;03m    graph: the graph to check\u001b[39;00m\n\u001b[0;32m     91\u001b[0m \n\u001b[0;32m     92\u001b[0m \u001b[38;5;124;03m\"\"\"\u001b[39;00m\n\u001b[0;32m     93\u001b[0m nodes \u001b[38;5;241m=\u001b[39m \u001b[38;5;28mset\u001b[39m(graph\u001b[38;5;241m.\u001b[39mnodes)\n\u001b[1;32m---> 94\u001b[0m root_node \u001b[38;5;241m=\u001b[39m \u001b[38;5;28;43mnext\u001b[39;49m\u001b[43m(\u001b[49m\u001b[43mnx\u001b[49m\u001b[38;5;241;43m.\u001b[39;49m\u001b[43mtopological_sort\u001b[49m\u001b[43m(\u001b[49m\u001b[43mgraph\u001b[49m\u001b[43m)\u001b[49m\u001b[43m)\u001b[49m\n\u001b[0;32m     96\u001b[0m isolates \u001b[38;5;241m=\u001b[39m \u001b[38;5;28mlist\u001b[39m(\u001b[38;5;28mset\u001b[39m(nx\u001b[38;5;241m.\u001b[39misolates(graph)) \u001b[38;5;241m-\u001b[39m {root_node})  \u001b[38;5;66;03m# root can be isolate\u001b[39;00m\n\u001b[0;32m     97\u001b[0m graph\u001b[38;5;241m.\u001b[39mremove_nodes_from(isolates)\n",
      "File \u001b[1;32m~\\anaconda3\\lib\\site-packages\\networkx\\algorithms\\dag.py:292\u001b[0m, in \u001b[0;36mtopological_sort\u001b[1;34m(G)\u001b[0m\n\u001b[0;32m    228\u001b[0m \u001b[38;5;28;01mdef\u001b[39;00m \u001b[38;5;21mtopological_sort\u001b[39m(G):\n\u001b[0;32m    229\u001b[0m     \u001b[38;5;124;03m\"\"\"Returns a generator of nodes in topologically sorted order.\u001b[39;00m\n\u001b[0;32m    230\u001b[0m \n\u001b[0;32m    231\u001b[0m \u001b[38;5;124;03m    A topological sort is a nonunique permutation of the nodes of a\u001b[39;00m\n\u001b[1;32m   (...)\u001b[0m\n\u001b[0;32m    290\u001b[0m \u001b[38;5;124;03m       *Introduction to Algorithms - A Creative Approach.* Addison-Wesley.\u001b[39;00m\n\u001b[0;32m    291\u001b[0m \u001b[38;5;124;03m    \"\"\"\u001b[39;00m\n\u001b[1;32m--> 292\u001b[0m     \u001b[38;5;28;01mfor\u001b[39;00m generation \u001b[38;5;129;01min\u001b[39;00m \u001b[43mnx\u001b[49m\u001b[38;5;241;43m.\u001b[39;49m\u001b[43mtopological_generations\u001b[49m(G):\n\u001b[0;32m    293\u001b[0m         \u001b[38;5;28;01myield from\u001b[39;00m generation\n",
      "File \u001b[1;32m~\\anaconda3\\lib\\site-packages\\networkx\\__init__.py:51\u001b[0m, in \u001b[0;36m__getattr__\u001b[1;34m(name)\u001b[0m\n\u001b[0;32m     42\u001b[0m \u001b[38;5;28;01mif\u001b[39;00m name \u001b[38;5;241m==\u001b[39m \u001b[38;5;124m\"\u001b[39m\u001b[38;5;124mwrite_yaml\u001b[39m\u001b[38;5;124m\"\u001b[39m:\n\u001b[0;32m     43\u001b[0m     \u001b[38;5;28;01mraise\u001b[39;00m \u001b[38;5;167;01mImportError\u001b[39;00m(\n\u001b[0;32m     44\u001b[0m         \u001b[38;5;124m\"\u001b[39m\u001b[38;5;130;01m\\n\u001b[39;00m\u001b[38;5;124mwrite_yaml has been removed from NetworkX, please use `yaml`\u001b[39m\u001b[38;5;130;01m\\n\u001b[39;00m\u001b[38;5;124m\"\u001b[39m\n\u001b[0;32m     45\u001b[0m         \u001b[38;5;124m\"\u001b[39m\u001b[38;5;124mdirectly:\u001b[39m\u001b[38;5;130;01m\\n\u001b[39;00m\u001b[38;5;130;01m\\n\u001b[39;00m\u001b[38;5;124m\"\u001b[39m\n\u001b[1;32m   (...)\u001b[0m\n\u001b[0;32m     49\u001b[0m         \u001b[38;5;124m\"\u001b[39m\u001b[38;5;124mThis message will be removed in NetworkX 3.0.\u001b[39m\u001b[38;5;124m\"\u001b[39m\n\u001b[0;32m     50\u001b[0m     )\n\u001b[1;32m---> 51\u001b[0m \u001b[38;5;28;01mraise\u001b[39;00m \u001b[38;5;167;01mAttributeError\u001b[39;00m(\u001b[38;5;124mf\u001b[39m\u001b[38;5;124m\"\u001b[39m\u001b[38;5;124mmodule \u001b[39m\u001b[38;5;132;01m{\u001b[39;00m\u001b[38;5;18m__name__\u001b[39m\u001b[38;5;132;01m}\u001b[39;00m\u001b[38;5;124m has no attribute \u001b[39m\u001b[38;5;132;01m{\u001b[39;00mname\u001b[38;5;132;01m}\u001b[39;00m\u001b[38;5;124m\"\u001b[39m)\n",
      "\u001b[1;31mAttributeError\u001b[0m: module networkx has no attribute topological_generations"
     ]
    }
   ],
   "source": [
    "profile = ProfileReport(df)\n",
    "profile.to_notebook_iframe()"
   ]
  },
  {
   "cell_type": "code",
   "execution_count": null,
   "id": "3e8a8363",
   "metadata": {},
   "outputs": [],
   "source": [
    "unique_names = []\n",
    "for name in df['Neighbourhood']:\n",
    "    if name not in unique_names:\n",
    "        unique_names.append(name)\n",
    "\n",
    "for name in unique_names:\n",
    "    print(name)"
   ]
  },
  {
   "cell_type": "code",
   "execution_count": null,
   "id": "addee235",
   "metadata": {},
   "outputs": [],
   "source": [
    "# Create a new DataFrame without rows containing names with numbers\n",
    "df_clean = df[~df['Neighbourhood'].str.contains('\\d')]\n",
    "\n",
    "df_clean"
   ]
  },
  {
   "cell_type": "code",
   "execution_count": null,
   "id": "a885840c",
   "metadata": {},
   "outputs": [],
   "source": [
    "# Droping columns\n",
    "df_clean.drop('transactionـnumber', inplace=True, axis=1)\n",
    "df_clean.drop('Plannedـtransactionـdetails', inplace=True, axis=1)\n",
    "df_clean"
   ]
  },
  {
   "cell_type": "code",
   "execution_count": null,
   "id": "e450059a",
   "metadata": {},
   "outputs": [],
   "source": [
    "# df = df.drop(df[df['Neighbourhood'] == '10186 فى/ 28/ 7/ 142…'].index, axis=0)\n",
    "# df"
   ]
  },
  {
   "cell_type": "code",
   "execution_count": null,
   "id": "a77697fe",
   "metadata": {},
   "outputs": [],
   "source": [
    "df_clean['Price_per_meter'] = df_clean['Price_per_meter'].str.replace(',', '')\n",
    "df_clean['Area'] = df_clean['Area'].str.replace(',', '')\n",
    "df_clean"
   ]
  },
  {
   "cell_type": "code",
   "execution_count": null,
   "id": "99bd9440",
   "metadata": {},
   "outputs": [],
   "source": [
    "filtered_df = df_clean.loc[df['Neighbourhood'] == 'الرمال']"
   ]
  },
  {
   "cell_type": "code",
   "execution_count": null,
   "id": "32801564",
   "metadata": {},
   "outputs": [],
   "source": [
    "df_clean['Area']=df_clean['Area'].astype(float)\n",
    "df_clean['Price_per_meter']=df_clean['Price_per_meter'].astype(float)"
   ]
  },
  {
   "cell_type": "code",
   "execution_count": null,
   "id": "b0612e32",
   "metadata": {},
   "outputs": [],
   "source": [
    "profile = ProfileReport(df_clean)\n",
    "profile.to_notebook_iframe()"
   ]
  },
  {
   "cell_type": "code",
   "execution_count": null,
   "id": "4fb3f6fc",
   "metadata": {},
   "outputs": [],
   "source": [
    "df_clean['Total_price'].sum()"
   ]
  },
  {
   "cell_type": "code",
   "execution_count": null,
   "id": "901b7ad1",
   "metadata": {},
   "outputs": [],
   "source": [
    "df_clean.shape[0]"
   ]
  },
  {
   "cell_type": "code",
   "execution_count": null,
   "id": "a909221e",
   "metadata": {},
   "outputs": [],
   "source": [
    "df_clean.isnull().sum()"
   ]
  },
  {
   "cell_type": "code",
   "execution_count": null,
   "id": "838df5c9",
   "metadata": {},
   "outputs": [],
   "source": [
    "# df.to_csv('/Users/majed-abdulkareem/Desktop/laps/Bootcamp-Project-2-Data-Analysis/Data/SAles.csv')"
   ]
  },
  {
   "cell_type": "code",
   "execution_count": null,
   "id": "b1763207",
   "metadata": {},
   "outputs": [],
   "source": [
    "Area_under300 = df_clean[df_clean['Area'] < 300]\n",
    "AreaBetween300_600 = df_clean[df_clean['Area'].between(300,600)]\n",
    "AreaAbove_600 = df_clean[df_clean['Area']>600]"
   ]
  },
  {
   "cell_type": "code",
   "execution_count": null,
   "id": "4d381659",
   "metadata": {},
   "outputs": [],
   "source": [
    "\n",
    "Areas = [Area_under300.shape[0], AreaBetween300_600.shape[0], AreaAbove_600.shape[0]]\n",
    "Area_size = ['less than 300m', 'between 300m & 600m', 'Above 600m']\n",
    "\n",
    "plt.figure(figsize=(8, 6))  # Set the figure size (width, height)\n",
    "\n",
    "plt.bar(Area_size, Areas, width=0.5)\n",
    "plt.xlabel('Size', fontsize=12)\n",
    "plt.ylabel('Sales', fontsize=12)\n",
    "\n",
    "for i, area in enumerate(Areas):\n",
    "    plt.text(i, area, str(area), ha='center', va='bottom')\n",
    "\n",
    "plt.title('Number of Sales by Area Size', fontsize=14)\n",
    "plt.tight_layout()\n",
    "\n",
    "# Add legend\n",
    "legend_labels = ['Number of Sales']\n",
    "plt.legend(legend_labels, loc='upper right')\n",
    "\n",
    "plt.show()\n"
   ]
  },
  {
   "cell_type": "code",
   "execution_count": null,
   "id": "98f6659a",
   "metadata": {},
   "outputs": [],
   "source": [
    "plt.figure(figsize=(15, 6))  # Set the figure size (width, height)\n",
    "\n",
    "plt.pie(Areas, labels=Area_size, autopct='%1.1f%%')\n",
    "plt.title('Sales Distribution', fontsize=14)\n",
    "\n",
    "plt.show()"
   ]
  },
  {
   "cell_type": "code",
   "execution_count": null,
   "id": "d58d90fd",
   "metadata": {},
   "outputs": [],
   "source": [
    "unique_names300to600 = []\n",
    "for name in AreaBetween300_600['Neighbourhood']:\n",
    "    if name not in unique_names300to600:\n",
    "        unique_names300to600.append(name)\n",
    "\n",
    "name_neighbour_above_50, number_of_sales_above_50 = get_top_50_names(unique_names300to600,AreaBetween300_600)\n",
    "print(name_neighbour_above_50)\n",
    "\n",
    "\n"
   ]
  },
  {
   "cell_type": "code",
   "execution_count": null,
   "id": "b3d0a127",
   "metadata": {},
   "outputs": [],
   "source": [
    "unique_names600 = []\n",
    "for name in AreaAbove_600['Neighbourhood']:\n",
    "    if name not in unique_names600:\n",
    "        unique_names600.append(name)\n",
    "name_neighbour_50_600, number_of_sales_50_600 = get_top_50_names(unique_names600,AreaAbove_600)\n",
    "print(name_neighbour_50_600)\n"
   ]
  },
  {
   "cell_type": "code",
   "execution_count": null,
   "id": "8887b7a3",
   "metadata": {},
   "outputs": [],
   "source": [
    "#between 300 to 600\n",
    "\n",
    "# Reshape and format the Arabic labels\n",
    "reshaped_labels = [get_display(arabic_reshaper.reshape(label)) for label in name_neighbour_above_50]\n",
    "\n",
    "# Plotting code\n",
    "plt.figure(figsize=(8, 6))  # Set the figure size\n",
    "\n",
    "plt.bar(reshaped_labels, number_of_sales_above_50, label='Neighbourhood')  # Add label for the legend\n",
    "plt.xlabel('Neighbourhood', fontsize=12)  # Set x-label with font size\n",
    "plt.ylabel('Sales', fontsize=12)  # Set y-label with font size\n",
    "plt.xticks(rotation='vertical')\n",
    "for i, name in enumerate(number_of_sales_above_50):\n",
    "    plt.text(i, name, str(name), ha='center', va='bottom')\n",
    "\n",
    "plt.title('Sales Distribution by Neighbourhood', fontsize=14)  # Add title with font size\n",
    "plt.legend(fontsize=10)  # Add legend with font size\n",
    "\n",
    "plt.show()\n"
   ]
  },
  {
   "cell_type": "code",
   "execution_count": null,
   "id": "66379662",
   "metadata": {},
   "outputs": [],
   "source": [
    "reshaped_labels2 = [get_display(arabic_reshaper.reshape(label)) for label in name_neighbour_50_600]\n",
    "\n",
    "plt.figure(figsize=(8, 6))  # Set the figure size\n",
    "\n",
    "plt.bar(reshaped_labels2, number_of_sales_50_600, label='Sales')  # Plot the bar chart with a label\n",
    "plt.xlabel('Neighbourhood', fontsize=12)  # Set x-label with font size\n",
    "plt.ylabel('Sales', fontsize=12)  # Set y-label with font size\n",
    "plt.xticks(rotation='vertical')\n",
    "\n",
    "for i, name in enumerate(number_of_sales_50_600):\n",
    "    plt.text(i, name, str(name), ha='center', va='bottom')  # Add text annotations to the bars\n",
    "\n",
    "plt.title('Sales Distribution by Neighbourhood', fontsize=14)  # Add title with font size\n",
    "\n",
    "plt.legend()  # Display the legend\n",
    "\n",
    "plt.show()"
   ]
  },
  {
   "cell_type": "code",
   "execution_count": null,
   "id": "3fe1edfa",
   "metadata": {},
   "outputs": [],
   "source": [
    "\n",
    "\n",
    "plt.figure(figsize=(12, 6))  # Adjust the figure size as needed\n",
    "\n",
    "# First subplot: top 50 names\n",
    "plt.subplot(1, 2, 1)\n",
    "plt.bar(reshaped_labels, number_of_sales_above_50)\n",
    "plt.xlabel('Neighbourhood', fontsize=12)\n",
    "plt.ylabel('Sales', fontsize=12)\n",
    "plt.xticks(rotation='vertical', fontsize=10)\n",
    "plt.title('Neighbourhood Sales 300-600', fontsize=14)\n",
    "plt.tight_layout()  # Adjust spacing within the subplot\n",
    "plt.legend(['Sales'], loc='best')\n",
    "\n",
    "# Second subplot: names with 50 to 600 sales\n",
    "plt.subplot(1, 2, 2)\n",
    "plt.bar(reshaped_labels2, number_of_sales_50_600)\n",
    "plt.xlabel('Neighbourhood', fontsize=12)\n",
    "plt.ylabel('Sales', fontsize=12)\n",
    "plt.xticks(rotation='vertical', fontsize=10)\n",
    "plt.title('Neighbourhood Sales >600', fontsize=14)\n",
    "plt.tight_layout()  # Adjust spacing within the subplot\n",
    "plt.legend(['Sales'], loc='best')\n",
    "\n",
    "plt.subplots_adjust(wspace=0.5)  # Adjust spacing between subplots\n",
    "\n",
    "plt.suptitle('Sales by Neighbourhood', fontsize=16, x=0.52, y=1)  # Title for the overall figure\n",
    "\n",
    "plt.show()\n"
   ]
  },
  {
   "cell_type": "code",
   "execution_count": null,
   "id": "13720503",
   "metadata": {},
   "outputs": [],
   "source": [
    "AVE600 = calculate_average_price(name_neighbour_50_600, AreaAbove_600)"
   ]
  },
  {
   "cell_type": "code",
   "execution_count": null,
   "id": "ee277ab3",
   "metadata": {},
   "outputs": [],
   "source": [
    "plt.figure(figsize=(8, 6))  # Adjust the figure size as needed\n",
    "\n",
    "plt.bar(reshaped_labels2, AVE600)\n",
    "plt.xlabel('Neighbourhood name', fontsize=12)\n",
    "plt.ylabel('Price per meter', fontsize=12)\n",
    "plt.xticks(rotation='vertical', fontsize=10)\n",
    "plt.title('Average Price per Meter in Neighbourhoods (Above 600)', fontsize=14)\n",
    "\n",
    "for i, name in enumerate(AVE600):\n",
    "    plt.text(i, name, str(round(name)), ha='center', va='bottom')\n",
    "\n",
    "plt.tight_layout()  # Adjust spacing\n",
    "\n",
    "plt.legend(['Price per meter'], loc='best')\n",
    "\n",
    "plt.show()"
   ]
  },
  {
   "cell_type": "code",
   "execution_count": null,
   "id": "c22a9374",
   "metadata": {},
   "outputs": [],
   "source": [
    "AVE300_600 = calculate_average_price(name_neighbour_above_50, AreaBetween300_600)"
   ]
  },
  {
   "cell_type": "code",
   "execution_count": null,
   "id": "6fd8d335",
   "metadata": {},
   "outputs": [],
   "source": [
    "plt.figure(figsize=(8, 6))  # Adjust the figure size as needed\n",
    "\n",
    "plt.bar(reshaped_labels, AVE300_600)\n",
    "plt.xlabel('Neighbourhood name', fontsize=12)\n",
    "plt.ylabel('Price per meter', fontsize=12)\n",
    "plt.xticks(rotation='vertical', fontsize=10)\n",
    "plt.title('Average Price per Meter in Neighbourhoods (Between 300 and 600)', fontsize=14)\n",
    "\n",
    "for i, name in enumerate(AVE300_600):\n",
    "    plt.text(i, name, str(round(name)), ha='center', va='bottom')\n",
    "\n",
    "plt.tight_layout()  # Adjust spacing\n",
    "\n",
    "plt.legend(['Price per meter'], loc='best')\n",
    "\n",
    "plt.show()"
   ]
  },
  {
   "cell_type": "markdown",
   "id": "169c666b",
   "metadata": {},
   "source": [
    "# Zainab Part"
   ]
  },
  {
   "cell_type": "code",
   "execution_count": null,
   "id": "06ba6654",
   "metadata": {},
   "outputs": [],
   "source": [
    "def months_realEstatesNumber(months):\n",
    "    \n",
    "    realEstatesNumber = [] \n",
    "    \n",
    "    #save each month's number of occurrences in the dataset \"Date\" column\n",
    "    for month in months:\n",
    "        realEstatesNumber.append(df_clean[\"Date\"].str.contains(month).sum())\n",
    "    \n",
    "    return realEstatesNumber\n",
    "        \n",
    "def days_realEstatesNumber(month, days):\n",
    "    \n",
    "    realEstatesNumber = []\n",
    "    \n",
    "    #save each day's number of occurrences in a specific month in the dataset \"Date\" column\n",
    "    for day in days:\n",
    "        realEstatesNumber.append(df_clean[\"Date\"].str.contains('(?=.*'+month+')(?=.*'+day+')').sum())\n",
    "        \n",
    "    return realEstatesNumber"
   ]
  },
  {
   "cell_type": "code",
   "execution_count": null,
   "id": "fd9e0ae6",
   "metadata": {},
   "outputs": [],
   "source": [
    "months = [\"January\",\"February\",\"March\"]\n",
    "days = [\"Sunday\",\"Monday\",\"Tuesday\",\"Wednesday\",\"Thursday\",\"Friday\",\"Saturday\"]\n",
    "\n",
    "#create a list that will contains the number of real estates for each month\n",
    "months_realEstatesNumberList = months_realEstatesNumber(months)\n",
    "\n",
    "#save the index of the month with the most number of real estates\n",
    "max_index = months_realEstatesNumberList.index(max(months_realEstatesNumberList))\n",
    "\n",
    "#retrieve the name of the month with the most number of real estates\n",
    "max_index_month = months[max_index]\n",
    "\n",
    "#create a list that will contains the number of real estates for each day of the month saved in max_index_month\n",
    "days_realEstatesNumberList = days_realEstatesNumber(max_index_month, days)"
   ]
  },
  {
   "cell_type": "code",
   "execution_count": null,
   "id": "f7d8bb91",
   "metadata": {},
   "outputs": [],
   "source": [
    "#plot two pie charts using subplot\n",
    "\n",
    "plt.figure(figsize=[15,7])\n",
    "plt.suptitle('Real Estates Number In The First Quarter',fontsize = 20)\n",
    "\n",
    "#first\n",
    "plt.subplot(1,2,1) \n",
    "\n",
    "plt.title('Real Estates In Q1 Months')\n",
    "plt.pie(months_realEstatesNumberList,labels=months, autopct='%1.1f%%', startangle=90, shadow=True, radius=1, explode = [0.05,0.05,0.05], colors=[\"cornflowerblue\",\"orange\",\"lightskyblue\"])\n",
    "\n",
    "\n",
    "#second\n",
    "plt.subplot(1,2,2)\n",
    "\n",
    "plt.title('Real Estates In '+months[max_index]+' Days')\n",
    "plt.pie(days_realEstatesNumberList,labels=days, autopct='%1.1f%%', startangle=90, shadow=True, radius=1, explode = [0.05,0.05,0.05,0.05,0.05,0.05,0.05], colors=[\"cornflowerblue\",\"orange\",\"lightskyblue\",\"pink\",\"hotpink\",\"gold\",\"cyan\"]);"
   ]
  },
  {
   "cell_type": "code",
   "execution_count": null,
   "id": "76548ccd",
   "metadata": {},
   "outputs": [],
   "source": []
  },
  {
   "cell_type": "code",
   "execution_count": null,
   "id": "6a385d6d",
   "metadata": {},
   "outputs": [],
   "source": []
  },
  {
   "cell_type": "code",
   "execution_count": null,
   "id": "fe16564f",
   "metadata": {},
   "outputs": [],
   "source": [
    "#by Amjad\n",
    "ddf=pd.read_csv(r\"'../Data/real_state_riyadh.csv'\", usecols= ['Neighbourhood'])"
   ]
  },
  {
   "cell_type": "code",
   "execution_count": null,
   "id": "f0646186",
   "metadata": {},
   "outputs": [],
   "source": [
    "ddf"
   ]
  },
  {
   "cell_type": "code",
   "execution_count": null,
   "id": "35f84a4c",
   "metadata": {},
   "outputs": [],
   "source": [
    "#chart 1"
   ]
  },
  {
   "cell_type": "code",
   "execution_count": null,
   "id": "35d70808",
   "metadata": {},
   "outputs": [],
   "source": [
    "count_Neighbourhood=ddf['Neighbourhood'].value_counts()\n",
    "count_Neighbourhood.head().plot.bar(fontsize=12, color='grey')\n",
    "plt.title('Top selling residential nighbourhood', fontsize=14, weight=\"bold\")\n",
    "width_bar = 0.50\n",
    "plt.show()"
   ]
  },
  {
   "cell_type": "code",
   "execution_count": null,
   "id": "065facc9",
   "metadata": {},
   "outputs": [],
   "source": []
  },
  {
   "cell_type": "code",
   "execution_count": null,
   "id": "217b5fda",
   "metadata": {},
   "outputs": [],
   "source": [
    "#char 2"
   ]
  },
  {
   "cell_type": "code",
   "execution_count": null,
   "id": "8b672526",
   "metadata": {},
   "outputs": [],
   "source": [
    "ddf['Neighbourhood']=ddf['Neighbourhood'].str.replace('\\d+','')"
   ]
  },
  {
   "cell_type": "code",
   "execution_count": null,
   "id": "5f3b7c1a",
   "metadata": {},
   "outputs": [],
   "source": [
    "ddf['Neighbourhood']=ddf['Neighbourhood'].replace(['outside Riyadh'],'معكال')"
   ]
  },
  {
   "cell_type": "code",
   "execution_count": null,
   "id": "2afb4e11",
   "metadata": {},
   "outputs": [],
   "source": [
    "ddf['Neighbourhood']=ddf['Neighbourhood'].replace(['مطار الملك خالد الدولي'], 'بنبان')"
   ]
  },
  {
   "cell_type": "code",
   "execution_count": null,
   "id": "fc1b0da3",
   "metadata": {},
   "outputs": [],
   "source": [
    "count_Neighbourhood_t=ddf['Neighbourhood'].value_counts()\n",
    "count_Neighbourhood_t.tail(3).plot.bar(fontsize=12, color='grey')\n",
    "plt.title('count_Neighbourhood', fontsize=14, weight=\"bold\")\n",
    "width_bar = 0.50\n",
    "plt.show()"
   ]
  },
  {
   "cell_type": "code",
   "execution_count": null,
   "id": "75f1324a",
   "metadata": {},
   "outputs": [],
   "source": []
  },
  {
   "cell_type": "code",
   "execution_count": null,
   "id": "ee4be797",
   "metadata": {},
   "outputs": [],
   "source": []
  },
  {
   "cell_type": "code",
   "execution_count": null,
   "id": "312f6fec",
   "metadata": {},
   "outputs": [],
   "source": [
    "dedf=pd.read_csv(r\"../Data/real_state_riyadh.csv\", usecols= ['Total_price','Neighbourhood'])"
   ]
  },
  {
   "cell_type": "code",
   "execution_count": null,
   "id": "f986ce80",
   "metadata": {},
   "outputs": [],
   "source": [
    "dedf"
   ]
  },
  {
   "cell_type": "code",
   "execution_count": null,
   "id": "d1b422b6",
   "metadata": {},
   "outputs": [],
   "source": [
    "dedf.nlargest(n=5, columns=['Total_price'])"
   ]
  },
  {
   "cell_type": "code",
   "execution_count": null,
   "id": "cf0ab446",
   "metadata": {},
   "outputs": [],
   "source": []
  },
  {
   "cell_type": "code",
   "execution_count": null,
   "id": "f0b8dc68",
   "metadata": {},
   "outputs": [],
   "source": []
  },
  {
   "cell_type": "code",
   "execution_count": null,
   "id": "bd232c12",
   "metadata": {},
   "outputs": [],
   "source": []
  }
 ],
 "metadata": {
  "kernelspec": {
   "display_name": "Python 3 (ipykernel)",
   "language": "python",
   "name": "python3"
  },
  "language_info": {
   "codemirror_mode": {
    "name": "ipython",
    "version": 3
   },
   "file_extension": ".py",
   "mimetype": "text/x-python",
   "name": "python",
   "nbconvert_exporter": "python",
   "pygments_lexer": "ipython3",
   "version": "3.10.9"
  },
  "vscode": {
   "interpreter": {
    "hash": "bdf603378775d7f7fdfc3693152b0c93d0fa2796c4929420373ca679d9644cd1"
   }
  }
 },
 "nbformat": 4,
 "nbformat_minor": 5
}
