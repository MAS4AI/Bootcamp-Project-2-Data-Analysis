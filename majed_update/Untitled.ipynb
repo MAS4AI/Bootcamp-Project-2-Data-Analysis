{
 "cells": [
  {
   "cell_type": "code",
   "execution_count": 259,
   "id": "e16e2bd9",
   "metadata": {},
   "outputs": [
    {
     "ename": "NameError",
     "evalue": "name 'Neighbourhood' is not defined",
     "output_type": "error",
     "traceback": [
      "\u001b[1;31m---------------------------------------------------------------------------\u001b[0m",
      "\u001b[1;31mNameError\u001b[0m                                 Traceback (most recent call last)",
      "Cell \u001b[1;32mIn[259], line 1\u001b[0m\n\u001b[1;32m----> 1\u001b[0m df\u001b[38;5;241m=\u001b[39m pd\u001b[38;5;241m.\u001b[39mread_csv(\u001b[43mNeighbourhood\u001b[49m)\n",
      "\u001b[1;31mNameError\u001b[0m: name 'Neighbourhood' is not defined"
     ]
    }
   ],
   "source": [
    "df= pd.read_csv(Neighbourhood)"
   ]
  },
  {
   "cell_type": "code",
   "execution_count": null,
   "id": "24a4a3b3",
   "metadata": {},
   "outputs": [],
   "source": [
    "import pandas as pd \n",
    "import numpy as np\n",
    "import statsmodels.api as sm\n",
    "import statsmodels.formula.api as smf\n",
    "import matplotlib.pyplot as plt\n"
   ]
  },
  {
   "cell_type": "code",
   "execution_count": null,
   "id": "3835ae12",
   "metadata": {},
   "outputs": [],
   "source": []
  },
  {
   "cell_type": "code",
   "execution_count": null,
   "id": "699dcbe8",
   "metadata": {},
   "outputs": [],
   "source": [
    "df = pd.read_csv(r\"C:\\Users\\hp\\Desktop\\c1\\Bootcamp-Project-2-Data-Analysis\\Data\\real_state_riyadh.csv\")"
   ]
  },
  {
   "cell_type": "code",
   "execution_count": null,
   "id": "0a82aa39",
   "metadata": {},
   "outputs": [],
   "source": [
    "df"
   ]
  },
  {
   "cell_type": "code",
   "execution_count": null,
   "id": "b1c0e4ee",
   "metadata": {},
   "outputs": [],
   "source": [
    "ddf=pd.read_csv(r\"C:\\Users\\hp\\Desktop\\c1\\Bootcamp-Project-2-Data-Analysis\\Data\\real_state_riyadh.csv\", usecols= ['Neighbourhood'])"
   ]
  },
  {
   "cell_type": "code",
   "execution_count": null,
   "id": "e1987b3b",
   "metadata": {},
   "outputs": [],
   "source": [
    "ddf"
   ]
  },
  {
   "cell_type": "code",
   "execution_count": null,
   "id": "df3b3e34",
   "metadata": {},
   "outputs": [],
   "source": [
    "df.head()"
   ]
  },
  {
   "cell_type": "code",
   "execution_count": null,
   "id": "e48045b3",
   "metadata": {},
   "outputs": [],
   "source": [
    "df= pd.read_csv(Neighbourhood)"
   ]
  },
  {
   "cell_type": "code",
   "execution_count": null,
   "id": "238932f8",
   "metadata": {},
   "outputs": [],
   "source": [
    "unique_names = []\n",
    "for name in df['Neighbourhood']:\n",
    "    if name not in unique_names:\n",
    "        unique_names.append(name)\n",
    "\n",
    "for name in unique_names:\n",
    "    print(name)"
   ]
  },
  {
   "cell_type": "code",
   "execution_count": null,
   "id": "e157be96",
   "metadata": {},
   "outputs": [],
   "source": [
    "df_clean = df[~df['Neighbourhood'].str.contains('\\d')]\n",
    "\n",
    "df_clean"
   ]
  },
  {
   "cell_type": "code",
   "execution_count": null,
   "id": "9032aeaf",
   "metadata": {},
   "outputs": [],
   "source": [
    "df_clean.drop('transactionـnumber', inplace=True, axis=1)\n",
    "df_clean.drop('Plannedـtransactionـdetails', inplace=True, axis=1)\n",
    "df_clean"
   ]
  },
  {
   "cell_type": "code",
   "execution_count": null,
   "id": "9caca66b",
   "metadata": {},
   "outputs": [],
   "source": [
    "df_clean['Price_per_meter'] = df_clean['Price_per_meter'].str.replace(',', '')\n",
    "df_clean['Area'] = df_clean['Area'].str.replace(',', '')\n",
    "df_clean"
   ]
  },
  {
   "cell_type": "code",
   "execution_count": null,
   "id": "173beaee",
   "metadata": {},
   "outputs": [],
   "source": [
    "filtered_df = df_clean.loc[df['Neighbourhood'] == 'الرمال']"
   ]
  },
  {
   "cell_type": "code",
   "execution_count": null,
   "id": "c70880b6",
   "metadata": {},
   "outputs": [],
   "source": [
    "df_clean['Area']=df_clean['Area'].astype(float)\n",
    "df_clean['Price_per_meter']=df_clean['Price_per_meter'].astype(float)"
   ]
  },
  {
   "cell_type": "code",
   "execution_count": null,
   "id": "72e3ed03",
   "metadata": {},
   "outputs": [],
   "source": [
    "df_clean['Total_price'].sum()"
   ]
  },
  {
   "cell_type": "code",
   "execution_count": null,
   "id": "b6e72654",
   "metadata": {},
   "outputs": [],
   "source": [
    "df_clean.shape[0]"
   ]
  },
  {
   "cell_type": "code",
   "execution_count": null,
   "id": "bf57975b",
   "metadata": {},
   "outputs": [],
   "source": [
    "df_clean.isnull().sum()"
   ]
  },
  {
   "cell_type": "code",
   "execution_count": null,
   "id": "397dead2",
   "metadata": {},
   "outputs": [],
   "source": []
  },
  {
   "cell_type": "code",
   "execution_count": null,
   "id": "186eed21",
   "metadata": {},
   "outputs": [],
   "source": [
    "prices_by_year_by_neighborhood = ddf.groupby([\"Neighbourhood\"])\n",
    "\n",
    "# Review the DataFrame\n",
    "prices_by_year_by_neighborhood.head()"
   ]
  },
  {
   "cell_type": "code",
   "execution_count": null,
   "id": "b050e53c",
   "metadata": {},
   "outputs": [],
   "source": []
  },
  {
   "cell_type": "code",
   "execution_count": null,
   "id": "6edbcc34",
   "metadata": {},
   "outputs": [],
   "source": []
  },
  {
   "cell_type": "code",
   "execution_count": null,
   "id": "6310b66e",
   "metadata": {},
   "outputs": [],
   "source": []
  },
  {
   "cell_type": "code",
   "execution_count": null,
   "id": "429edcdf",
   "metadata": {},
   "outputs": [],
   "source": []
  },
  {
   "cell_type": "code",
   "execution_count": null,
   "id": "d7cee058",
   "metadata": {},
   "outputs": [],
   "source": [
    "dds=(df.groupby('Neighbourhood')['Neighbourhood']\n",
    "   .agg(lambda x: x.value_counts().loc[x.max()])\n",
    "   .reset_index(name='count_max')\n",
    ")"
   ]
  },
  {
   "cell_type": "code",
   "execution_count": null,
   "id": "9100c811",
   "metadata": {},
   "outputs": [],
   "source": [
    "dds"
   ]
  },
  {
   "cell_type": "code",
   "execution_count": null,
   "id": "4d13c957",
   "metadata": {},
   "outputs": [],
   "source": [
    "dfs=(df.groupby('Neighbourhood')['Neighbourhood']\n",
    "   .agg(lambda x: x.value_counts().loc[x.max()])\n",
    "   )"
   ]
  },
  {
   "cell_type": "code",
   "execution_count": null,
   "id": "1b0692b8",
   "metadata": {},
   "outputs": [],
   "source": [
    "dfs.head()\n"
   ]
  },
  {
   "cell_type": "code",
   "execution_count": null,
   "id": "a82cd43f",
   "metadata": {},
   "outputs": [],
   "source": []
  },
  {
   "cell_type": "code",
   "execution_count": null,
   "id": "7225938e",
   "metadata": {},
   "outputs": [],
   "source": []
  },
  {
   "cell_type": "code",
   "execution_count": null,
   "id": "e04f8b80",
   "metadata": {},
   "outputs": [],
   "source": []
  },
  {
   "cell_type": "code",
   "execution_count": null,
   "id": "9e90641e",
   "metadata": {},
   "outputs": [],
   "source": []
  },
  {
   "cell_type": "code",
   "execution_count": null,
   "id": "c6393cb3",
   "metadata": {},
   "outputs": [],
   "source": []
  },
  {
   "cell_type": "code",
   "execution_count": null,
   "id": "0d158fb6",
   "metadata": {},
   "outputs": [],
   "source": [
    "ddf['freq'] = df.groupby('Neighbourhood')['Neighbourhood'].transform('count')\n",
    "ddf\n"
   ]
  },
  {
   "cell_type": "code",
   "execution_count": null,
   "id": "e2f77cee",
   "metadata": {},
   "outputs": [],
   "source": [
    "gf=ddf['Neighbourhood'].value_counts()\n",
    "nn=gf.head()"
   ]
  },
  {
   "cell_type": "code",
   "execution_count": null,
   "id": "aa83730a",
   "metadata": {},
   "outputs": [],
   "source": [
    "nn"
   ]
  },
  {
   "cell_type": "code",
   "execution_count": null,
   "id": "8de2a82c",
   "metadata": {},
   "outputs": [],
   "source": []
  },
  {
   "cell_type": "code",
   "execution_count": null,
   "id": "5f6b734d",
   "metadata": {},
   "outputs": [],
   "source": [
    "gf=ddf['Neighbourhood'].value_counts()\n",
    "gf.head().plot.bar()\n",
    "plt.show()"
   ]
  },
  {
   "cell_type": "code",
   "execution_count": 262,
   "id": "b2716f28",
   "metadata": {},
   "outputs": [
    {
     "name": "stderr",
     "output_type": "stream",
     "text": [
      "C:\\Users\\hp\\AppData\\Local\\Temp\\ipykernel_10308\\3339735607.py:1: FutureWarning: The default value of regex will change from True to False in a future version.\n",
      "  ddf['Neighbourhood']=ddf['Neighbourhood'].str.replace('\\d+','')\n"
     ]
    }
   ],
   "source": [
    "ddf['Neighbourhood']=ddf['Neighbourhood'].str.replace('\\d+','')"
   ]
  },
  {
   "cell_type": "code",
   "execution_count": 261,
   "id": "9de48b43",
   "metadata": {},
   "outputs": [
    {
     "name": "stderr",
     "output_type": "stream",
     "text": [
      "C:\\Users\\hp\\AppData\\Local\\Temp\\ipykernel_10308\\558119088.py:1: FutureWarning: The default value of regex will change from True to False in a future version. In addition, single character regular expressions will *not* be treated as literal strings when regex=True.\n",
      "  ddf['Neighbourhood']=ddf['Neighbourhood'].str.replace('.','')\n"
     ]
    }
   ],
   "source": [
    "ddf['Neighbourhood']=ddf['Neighbourhood'].str.replace('.','')"
   ]
  },
  {
   "cell_type": "code",
   "execution_count": 277,
   "id": "d88bc50b",
   "metadata": {},
   "outputs": [
    {
     "data": {
      "text/plain": [
       "طريق الحجاز    1\n",
       "الخويلدية      1\n",
       "               1\n",
       "عرقة           1\n",
       "  كم جنو…      1\n",
       "الرحبه         1\n",
       "Name: Neighbourhood, dtype: int64"
      ]
     },
     "execution_count": 277,
     "metadata": {},
     "output_type": "execute_result"
    }
   ],
   "source": [
    "jhh=ddf['Neighbourhood'].value_counts()\n",
    "jhh.tail(6)"
   ]
  },
  {
   "cell_type": "code",
   "execution_count": null,
   "id": "672f13a7",
   "metadata": {},
   "outputs": [],
   "source": []
  },
  {
   "cell_type": "code",
   "execution_count": null,
   "id": "bf313fb0",
   "metadata": {},
   "outputs": [],
   "source": []
  }
 ],
 "metadata": {
  "kernelspec": {
   "display_name": "Python 3 (ipykernel)",
   "language": "python",
   "name": "python3"
  },
  "language_info": {
   "codemirror_mode": {
    "name": "ipython",
    "version": 3
   },
   "file_extension": ".py",
   "mimetype": "text/x-python",
   "name": "python",
   "nbconvert_exporter": "python",
   "pygments_lexer": "ipython3",
   "version": "3.10.9"
  }
 },
 "nbformat": 4,
 "nbformat_minor": 5
}
