{
 "cells": [
  {
   "cell_type": "code",
   "execution_count": 233,
   "id": "37532eb0",
   "metadata": {},
   "outputs": [
    {
     "ename": "NameError",
     "evalue": "name 'Neighbourhood' is not defined",
     "output_type": "error",
     "traceback": [
      "\u001b[1;31m---------------------------------------------------------------------------\u001b[0m",
      "\u001b[1;31mNameError\u001b[0m                                 Traceback (most recent call last)",
      "Cell \u001b[1;32mIn[233], line 1\u001b[0m\n\u001b[1;32m----> 1\u001b[0m df\u001b[38;5;241m=\u001b[39m pd\u001b[38;5;241m.\u001b[39mread_csv(\u001b[43mNeighbourhood\u001b[49m)\n",
      "\u001b[1;31mNameError\u001b[0m: name 'Neighbourhood' is not defined"
     ]
    }
   ],
   "source": [
    "df= pd.read_csv(Neighbourhood)"
   ]
  },
  {
   "cell_type": "code",
   "execution_count": null,
   "id": "1932c63d",
   "metadata": {},
   "outputs": [],
   "source": [
    "import pandas as pd \n",
    "import numpy as np\n",
    "import statsmodels.api as sm\n",
    "import statsmodels.formula.api as smf\n",
    "import matplotlib.pyplot as plt\n"
   ]
  },
  {
   "cell_type": "code",
   "execution_count": null,
   "id": "0e5f2e63",
   "metadata": {},
   "outputs": [],
   "source": []
  },
  {
   "cell_type": "code",
   "execution_count": 240,
   "id": "42f10e76",
   "metadata": {},
   "outputs": [],
   "source": [
    "df = pd.read_csv(r\"C:\\Users\\hp\\Desktop\\c1\\Bootcamp-Project-2-Data-Analysis\\Data\\real_state_riyadh.csv\")"
   ]
  },
  {
   "cell_type": "code",
   "execution_count": 241,
   "id": "2b1c141b",
   "metadata": {},
   "outputs": [
    {
     "data": {
      "text/html": [
       "<div>\n",
       "<style scoped>\n",
       "    .dataframe tbody tr th:only-of-type {\n",
       "        vertical-align: middle;\n",
       "    }\n",
       "\n",
       "    .dataframe tbody tr th {\n",
       "        vertical-align: top;\n",
       "    }\n",
       "\n",
       "    .dataframe thead th {\n",
       "        text-align: right;\n",
       "    }\n",
       "</style>\n",
       "<table border=\"1\" class=\"dataframe\">\n",
       "  <thead>\n",
       "    <tr style=\"text-align: right;\">\n",
       "      <th></th>\n",
       "      <th>Neighbourhood</th>\n",
       "      <th>Plannedـtransactionـdetails</th>\n",
       "      <th>Detailsـtransaction</th>\n",
       "      <th>Date</th>\n",
       "      <th>transactionـnumber</th>\n",
       "      <th>Total_price</th>\n",
       "      <th>Area</th>\n",
       "      <th>Price_per_meter</th>\n",
       "    </tr>\n",
       "  </thead>\n",
       "  <tbody>\n",
       "    <tr>\n",
       "      <th>0</th>\n",
       "      <td>10186 فى/ 28/ 7/ 142…</td>\n",
       "      <td>مخطط/3738</td>\n",
       "      <td>قطعة 176</td>\n",
       "      <td>Thursday, 13 January 2022</td>\n",
       "      <td>15906251</td>\n",
       "      <td>834782.0</td>\n",
       "      <td>642.14</td>\n",
       "      <td>1300.00</td>\n",
       "    </tr>\n",
       "    <tr>\n",
       "      <th>1</th>\n",
       "      <td>10186 فى/ 28/ 7/ 142…</td>\n",
       "      <td>مخطط/3738</td>\n",
       "      <td>قطعة 178</td>\n",
       "      <td>Thursday, 13 January 2022</td>\n",
       "      <td>15906446</td>\n",
       "      <td>780000.0</td>\n",
       "      <td>600.00</td>\n",
       "      <td>1300.00</td>\n",
       "    </tr>\n",
       "    <tr>\n",
       "      <th>2</th>\n",
       "      <td>10186 فى/ 28/ 7/ 142…</td>\n",
       "      <td>مخطط/3738</td>\n",
       "      <td>قطعة 180</td>\n",
       "      <td>Thursday, 13 January 2022</td>\n",
       "      <td>15906513</td>\n",
       "      <td>780000.0</td>\n",
       "      <td>600.00</td>\n",
       "      <td>1300.00</td>\n",
       "    </tr>\n",
       "    <tr>\n",
       "      <th>3</th>\n",
       "      <td>10186 فى/ 28/ 7/ 142…</td>\n",
       "      <td>مخطط/3738</td>\n",
       "      <td>قطعة 182</td>\n",
       "      <td>Thursday, 13 January 2022</td>\n",
       "      <td>15906597</td>\n",
       "      <td>780000.0</td>\n",
       "      <td>600.00</td>\n",
       "      <td>1300.00</td>\n",
       "    </tr>\n",
       "    <tr>\n",
       "      <th>4</th>\n",
       "      <td>10186 فى/ 28/ 7/ 142…</td>\n",
       "      <td>مخطط/3738</td>\n",
       "      <td>قطعة 184</td>\n",
       "      <td>Thursday, 13 January 2022</td>\n",
       "      <td>15906669</td>\n",
       "      <td>772688.0</td>\n",
       "      <td>594.38</td>\n",
       "      <td>1300.00</td>\n",
       "    </tr>\n",
       "    <tr>\n",
       "      <th>...</th>\n",
       "      <td>...</td>\n",
       "      <td>...</td>\n",
       "      <td>...</td>\n",
       "      <td>...</td>\n",
       "      <td>...</td>\n",
       "      <td>...</td>\n",
       "      <td>...</td>\n",
       "      <td>...</td>\n",
       "    </tr>\n",
       "    <tr>\n",
       "      <th>14264</th>\n",
       "      <td>هدبان</td>\n",
       "      <td>مخطط/2837</td>\n",
       "      <td>قطعة 256/2</td>\n",
       "      <td>Monday, 21 March 2022</td>\n",
       "      <td>16498618</td>\n",
       "      <td>2099475.0</td>\n",
       "      <td>399.9</td>\n",
       "      <td>5,250</td>\n",
       "    </tr>\n",
       "    <tr>\n",
       "      <th>14265</th>\n",
       "      <td>هدبان</td>\n",
       "      <td>مخطط/2837</td>\n",
       "      <td>قطعة 257/1</td>\n",
       "      <td>Monday, 21 March 2022</td>\n",
       "      <td>16498578</td>\n",
       "      <td>1959510.0</td>\n",
       "      <td>399.9</td>\n",
       "      <td>4,900</td>\n",
       "    </tr>\n",
       "    <tr>\n",
       "      <th>14266</th>\n",
       "      <td>وادى العرج</td>\n",
       "      <td>مخطط/3242</td>\n",
       "      <td>قطعة 1965/2</td>\n",
       "      <td>Sunday, 6 March 2022</td>\n",
       "      <td>16359548</td>\n",
       "      <td>718750.0</td>\n",
       "      <td>312.5</td>\n",
       "      <td>2,300</td>\n",
       "    </tr>\n",
       "    <tr>\n",
       "      <th>14267</th>\n",
       "      <td>واسط</td>\n",
       "      <td>مخطط/3242</td>\n",
       "      <td>قطعة 1544/1</td>\n",
       "      <td>Wednesday, 30 March 2022</td>\n",
       "      <td>16609638</td>\n",
       "      <td>685000.0</td>\n",
       "      <td>300</td>\n",
       "      <td>2,283</td>\n",
       "    </tr>\n",
       "    <tr>\n",
       "      <th>14268</th>\n",
       "      <td>واسط</td>\n",
       "      <td>مخطط/3242</td>\n",
       "      <td>قطعة 1545/1</td>\n",
       "      <td>Tuesday, 8 March 2022</td>\n",
       "      <td>16383430</td>\n",
       "      <td>680000.0</td>\n",
       "      <td>300</td>\n",
       "      <td>2,267</td>\n",
       "    </tr>\n",
       "  </tbody>\n",
       "</table>\n",
       "<p>14269 rows × 8 columns</p>\n",
       "</div>"
      ],
      "text/plain": [
       "               Neighbourhood Plannedـtransactionـdetails Detailsـtransaction  \\\n",
       "0      10186 فى/ 28/ 7/ 142…                   مخطط/3738            قطعة 176   \n",
       "1      10186 فى/ 28/ 7/ 142…                   مخطط/3738            قطعة 178   \n",
       "2      10186 فى/ 28/ 7/ 142…                   مخطط/3738            قطعة 180   \n",
       "3      10186 فى/ 28/ 7/ 142…                   مخطط/3738            قطعة 182   \n",
       "4      10186 فى/ 28/ 7/ 142…                   مخطط/3738            قطعة 184   \n",
       "...                      ...                         ...                 ...   \n",
       "14264                  هدبان                   مخطط/2837          قطعة 256/2   \n",
       "14265                  هدبان                   مخطط/2837          قطعة 257/1   \n",
       "14266             وادى العرج                   مخطط/3242         قطعة 1965/2   \n",
       "14267                   واسط                   مخطط/3242         قطعة 1544/1   \n",
       "14268                   واسط                   مخطط/3242         قطعة 1545/1   \n",
       "\n",
       "                             Date  transactionـnumber  Total_price    Area  \\\n",
       "0      Thursday, 13 January 2022             15906251     834782.0  642.14   \n",
       "1      Thursday, 13 January 2022             15906446     780000.0  600.00   \n",
       "2      Thursday, 13 January 2022             15906513     780000.0  600.00   \n",
       "3      Thursday, 13 January 2022             15906597     780000.0  600.00   \n",
       "4      Thursday, 13 January 2022             15906669     772688.0  594.38   \n",
       "...                           ...                 ...          ...     ...   \n",
       "14264      Monday, 21 March 2022             16498618    2099475.0   399.9   \n",
       "14265      Monday, 21 March 2022             16498578    1959510.0   399.9   \n",
       "14266       Sunday, 6 March 2022             16359548     718750.0   312.5   \n",
       "14267   Wednesday, 30 March 2022             16609638     685000.0     300   \n",
       "14268      Tuesday, 8 March 2022             16383430     680000.0     300   \n",
       "\n",
       "      Price_per_meter  \n",
       "0             1300.00  \n",
       "1             1300.00  \n",
       "2             1300.00  \n",
       "3             1300.00  \n",
       "4             1300.00  \n",
       "...               ...  \n",
       "14264           5,250  \n",
       "14265           4,900  \n",
       "14266           2,300  \n",
       "14267           2,283  \n",
       "14268           2,267  \n",
       "\n",
       "[14269 rows x 8 columns]"
      ]
     },
     "execution_count": 241,
     "metadata": {},
     "output_type": "execute_result"
    }
   ],
   "source": [
    "df"
   ]
  },
  {
   "cell_type": "code",
   "execution_count": null,
   "id": "eedd155b",
   "metadata": {},
   "outputs": [],
   "source": [
    "ddf=pd.read_csv(r\"C:\\Users\\hp\\Desktop\\c1\\Bootcamp-Project-2-Data-Analysis\\Data\\real_state_riyadh.csv\", usecols= ['Neighbourhood'])"
   ]
  },
  {
   "cell_type": "code",
   "execution_count": null,
   "id": "c01bb217",
   "metadata": {},
   "outputs": [],
   "source": [
    "ddf"
   ]
  },
  {
   "cell_type": "code",
   "execution_count": null,
   "id": "2d82186a",
   "metadata": {},
   "outputs": [],
   "source": [
    "df.head()"
   ]
  },
  {
   "cell_type": "code",
   "execution_count": null,
   "id": "35116eb0",
   "metadata": {},
   "outputs": [],
   "source": [
    "df= pd.read_csv(Neighbourhood)"
   ]
  },
  {
   "cell_type": "code",
   "execution_count": null,
   "id": "96a2efd0",
   "metadata": {},
   "outputs": [],
   "source": [
    "unique_names = []\n",
    "for name in df['Neighbourhood']:\n",
    "    if name not in unique_names:\n",
    "        unique_names.append(name)\n",
    "\n",
    "for name in unique_names:\n",
    "    print(name)"
   ]
  },
  {
   "cell_type": "code",
   "execution_count": null,
   "id": "e15940d2",
   "metadata": {},
   "outputs": [],
   "source": [
    "df_clean = df[~df['Neighbourhood'].str.contains('\\d')]\n",
    "\n",
    "df_clean"
   ]
  },
  {
   "cell_type": "code",
   "execution_count": null,
   "id": "b249f67e",
   "metadata": {},
   "outputs": [],
   "source": [
    "df_clean.drop('transactionـnumber', inplace=True, axis=1)\n",
    "df_clean.drop('Plannedـtransactionـdetails', inplace=True, axis=1)\n",
    "df_clean"
   ]
  },
  {
   "cell_type": "code",
   "execution_count": null,
   "id": "408dd57b",
   "metadata": {},
   "outputs": [],
   "source": [
    "df_clean['Price_per_meter'] = df_clean['Price_per_meter'].str.replace(',', '')\n",
    "df_clean['Area'] = df_clean['Area'].str.replace(',', '')\n",
    "df_clean"
   ]
  },
  {
   "cell_type": "code",
   "execution_count": null,
   "id": "06d029d8",
   "metadata": {},
   "outputs": [],
   "source": [
    "filtered_df = df_clean.loc[df['Neighbourhood'] == 'الرمال']"
   ]
  },
  {
   "cell_type": "code",
   "execution_count": null,
   "id": "35aaec64",
   "metadata": {},
   "outputs": [],
   "source": [
    "df_clean['Area']=df_clean['Area'].astype(float)\n",
    "df_clean['Price_per_meter']=df_clean['Price_per_meter'].astype(float)"
   ]
  },
  {
   "cell_type": "code",
   "execution_count": null,
   "id": "e3e5315f",
   "metadata": {},
   "outputs": [],
   "source": [
    "df_clean['Total_price'].sum()"
   ]
  },
  {
   "cell_type": "code",
   "execution_count": null,
   "id": "d1670c9f",
   "metadata": {},
   "outputs": [],
   "source": [
    "df_clean.shape[0]"
   ]
  },
  {
   "cell_type": "code",
   "execution_count": null,
   "id": "48edff06",
   "metadata": {},
   "outputs": [],
   "source": [
    "df_clean.isnull().sum()"
   ]
  },
  {
   "cell_type": "code",
   "execution_count": null,
   "id": "13365364",
   "metadata": {},
   "outputs": [],
   "source": []
  },
  {
   "cell_type": "code",
   "execution_count": 234,
   "id": "fded720b",
   "metadata": {},
   "outputs": [
    {
     "data": {
      "text/html": [
       "<div>\n",
       "<style scoped>\n",
       "    .dataframe tbody tr th:only-of-type {\n",
       "        vertical-align: middle;\n",
       "    }\n",
       "\n",
       "    .dataframe tbody tr th {\n",
       "        vertical-align: top;\n",
       "    }\n",
       "\n",
       "    .dataframe thead th {\n",
       "        text-align: right;\n",
       "    }\n",
       "</style>\n",
       "<table border=\"1\" class=\"dataframe\">\n",
       "  <thead>\n",
       "    <tr style=\"text-align: right;\">\n",
       "      <th></th>\n",
       "      <th>Neighbourhood</th>\n",
       "      <th>freq</th>\n",
       "    </tr>\n",
       "  </thead>\n",
       "  <tbody>\n",
       "    <tr>\n",
       "      <th>14268</th>\n",
       "      <td>واسط</td>\n",
       "      <td>6</td>\n",
       "    </tr>\n",
       "    <tr>\n",
       "      <th>14267</th>\n",
       "      <td>واسط</td>\n",
       "      <td>6</td>\n",
       "    </tr>\n",
       "    <tr>\n",
       "      <th>5275</th>\n",
       "      <td>واسط</td>\n",
       "      <td>6</td>\n",
       "    </tr>\n",
       "    <tr>\n",
       "      <th>5276</th>\n",
       "      <td>واسط</td>\n",
       "      <td>6</td>\n",
       "    </tr>\n",
       "    <tr>\n",
       "      <th>5277</th>\n",
       "      <td>واسط</td>\n",
       "      <td>6</td>\n",
       "    </tr>\n",
       "    <tr>\n",
       "      <th>...</th>\n",
       "      <td>...</td>\n",
       "      <td>...</td>\n",
       "    </tr>\n",
       "    <tr>\n",
       "      <th>5279</th>\n",
       "      <td>10/ 4/ 2/ 1416</td>\n",
       "      <td>21</td>\n",
       "    </tr>\n",
       "    <tr>\n",
       "      <th>5288</th>\n",
       "      <td>10/ 4/ 2/ 1416</td>\n",
       "      <td>21</td>\n",
       "    </tr>\n",
       "    <tr>\n",
       "      <th>5280</th>\n",
       "      <td>10/ 4/ 2/ 1416</td>\n",
       "      <td>21</td>\n",
       "    </tr>\n",
       "    <tr>\n",
       "      <th>5281</th>\n",
       "      <td>10/ 4/ 2/ 1416</td>\n",
       "      <td>21</td>\n",
       "    </tr>\n",
       "    <tr>\n",
       "      <th>5282</th>\n",
       "      <td>10/ 4/ 2/ 1416</td>\n",
       "      <td>21</td>\n",
       "    </tr>\n",
       "  </tbody>\n",
       "</table>\n",
       "<p>965 rows × 2 columns</p>\n",
       "</div>"
      ],
      "text/plain": [
       "        Neighbourhood  freq\n",
       "14268            واسط     6\n",
       "14267            واسط     6\n",
       "5275             واسط     6\n",
       "5276             واسط     6\n",
       "5277             واسط     6\n",
       "...               ...   ...\n",
       "5279   10/ 4/ 2/ 1416    21\n",
       "5288   10/ 4/ 2/ 1416    21\n",
       "5280   10/ 4/ 2/ 1416    21\n",
       "5281   10/ 4/ 2/ 1416    21\n",
       "5282   10/ 4/ 2/ 1416    21\n",
       "\n",
       "[965 rows x 2 columns]"
      ]
     },
     "execution_count": 234,
     "metadata": {},
     "output_type": "execute_result"
    }
   ],
   "source": [
    "prices_by_year_by_neighborhood = ddf.groupby([\"Neighbourhood\"])\n",
    "\n",
    "# Review the DataFrame\n",
    "prices_by_year_by_neighborhood.head()"
   ]
  },
  {
   "cell_type": "code",
   "execution_count": null,
   "id": "e7cf76ed",
   "metadata": {},
   "outputs": [],
   "source": []
  },
  {
   "cell_type": "code",
   "execution_count": null,
   "id": "d4836ee6",
   "metadata": {},
   "outputs": [],
   "source": []
  },
  {
   "cell_type": "code",
   "execution_count": null,
   "id": "77a80f7c",
   "metadata": {},
   "outputs": [],
   "source": []
  },
  {
   "cell_type": "code",
   "execution_count": null,
   "id": "1f34f4f4",
   "metadata": {},
   "outputs": [],
   "source": []
  },
  {
   "cell_type": "code",
   "execution_count": 237,
   "id": "b695d40e",
   "metadata": {},
   "outputs": [],
   "source": [
    "dds=(df.groupby('Neighbourhood')['Neighbourhood']\n",
    "   .agg(lambda x: x.value_counts().loc[x.max()])\n",
    "   .reset_index(name='count_max')\n",
    ")"
   ]
  },
  {
   "cell_type": "code",
   "execution_count": 238,
   "id": "c92a16c7",
   "metadata": {},
   "outputs": [
    {
     "data": {
      "text/html": [
       "<div>\n",
       "<style scoped>\n",
       "    .dataframe tbody tr th:only-of-type {\n",
       "        vertical-align: middle;\n",
       "    }\n",
       "\n",
       "    .dataframe tbody tr th {\n",
       "        vertical-align: top;\n",
       "    }\n",
       "\n",
       "    .dataframe thead th {\n",
       "        text-align: right;\n",
       "    }\n",
       "</style>\n",
       "<table border=\"1\" class=\"dataframe\">\n",
       "  <thead>\n",
       "    <tr style=\"text-align: right;\">\n",
       "      <th></th>\n",
       "      <th>Neighbourhood</th>\n",
       "      <th>count_max</th>\n",
       "    </tr>\n",
       "  </thead>\n",
       "  <tbody>\n",
       "    <tr>\n",
       "      <th>0</th>\n",
       "      <td>10/ 4/ 2/ 1416</td>\n",
       "      <td>21</td>\n",
       "    </tr>\n",
       "    <tr>\n",
       "      <th>1</th>\n",
       "      <td>10186 فى/ 28/ 7/ 142…</td>\n",
       "      <td>38</td>\n",
       "    </tr>\n",
       "    <tr>\n",
       "      <th>2</th>\n",
       "      <td>1353 فى/ 20/ 5/ 1413</td>\n",
       "      <td>1</td>\n",
       "    </tr>\n",
       "    <tr>\n",
       "      <th>3</th>\n",
       "      <td>16 كم جنوب مسلخ البل…</td>\n",
       "      <td>1</td>\n",
       "    </tr>\n",
       "    <tr>\n",
       "      <th>4</th>\n",
       "      <td>23.5كم شمال حائل</td>\n",
       "      <td>1</td>\n",
       "    </tr>\n",
       "    <tr>\n",
       "      <th>...</th>\n",
       "      <td>...</td>\n",
       "      <td>...</td>\n",
       "    </tr>\n",
       "    <tr>\n",
       "      <th>250</th>\n",
       "      <td>هدبان</td>\n",
       "      <td>6</td>\n",
       "    </tr>\n",
       "    <tr>\n",
       "      <th>251</th>\n",
       "      <td>هيت</td>\n",
       "      <td>1</td>\n",
       "    </tr>\n",
       "    <tr>\n",
       "      <th>252</th>\n",
       "      <td>وادى العرج</td>\n",
       "      <td>2</td>\n",
       "    </tr>\n",
       "    <tr>\n",
       "      <th>253</th>\n",
       "      <td>وادى صبيا</td>\n",
       "      <td>2</td>\n",
       "    </tr>\n",
       "    <tr>\n",
       "      <th>254</th>\n",
       "      <td>واسط</td>\n",
       "      <td>6</td>\n",
       "    </tr>\n",
       "  </tbody>\n",
       "</table>\n",
       "<p>255 rows × 2 columns</p>\n",
       "</div>"
      ],
      "text/plain": [
       "             Neighbourhood  count_max\n",
       "0           10/ 4/ 2/ 1416         21\n",
       "1    10186 فى/ 28/ 7/ 142…         38\n",
       "2     1353 فى/ 20/ 5/ 1413          1\n",
       "3    16 كم جنوب مسلخ البل…          1\n",
       "4         23.5كم شمال حائل          1\n",
       "..                     ...        ...\n",
       "250                  هدبان          6\n",
       "251                    هيت          1\n",
       "252             وادى العرج          2\n",
       "253              وادى صبيا          2\n",
       "254                   واسط          6\n",
       "\n",
       "[255 rows x 2 columns]"
      ]
     },
     "execution_count": 238,
     "metadata": {},
     "output_type": "execute_result"
    }
   ],
   "source": [
    "dds"
   ]
  },
  {
   "cell_type": "code",
   "execution_count": null,
   "id": "1e1f83bb",
   "metadata": {},
   "outputs": [],
   "source": [
    "dfs=(df.groupby('Neighbourhood')['Neighbourhood']\n",
    "   .agg(lambda x: x.value_counts().loc[x.max()])\n",
    "   )"
   ]
  },
  {
   "cell_type": "code",
   "execution_count": null,
   "id": "bbe01110",
   "metadata": {},
   "outputs": [],
   "source": [
    "dfs.head()\n"
   ]
  },
  {
   "cell_type": "code",
   "execution_count": null,
   "id": "98e53556",
   "metadata": {},
   "outputs": [],
   "source": []
  },
  {
   "cell_type": "code",
   "execution_count": null,
   "id": "01491c68",
   "metadata": {},
   "outputs": [],
   "source": []
  },
  {
   "cell_type": "code",
   "execution_count": null,
   "id": "f72d7993",
   "metadata": {},
   "outputs": [],
   "source": []
  },
  {
   "cell_type": "code",
   "execution_count": null,
   "id": "e766d01a",
   "metadata": {},
   "outputs": [],
   "source": []
  },
  {
   "cell_type": "code",
   "execution_count": null,
   "id": "ded7ebc6",
   "metadata": {},
   "outputs": [],
   "source": []
  },
  {
   "cell_type": "code",
   "execution_count": null,
   "id": "e181a502",
   "metadata": {},
   "outputs": [],
   "source": [
    "ddf['freq'] = df.groupby('Neighbourhood')['Neighbourhood'].transform('count')\n",
    "ddf\n"
   ]
  },
  {
   "cell_type": "code",
   "execution_count": null,
   "id": "e218a65f",
   "metadata": {},
   "outputs": [],
   "source": [
    "gf=ddf['Neighbourhood'].value_counts()\n",
    "nn=gf.head()"
   ]
  },
  {
   "cell_type": "code",
   "execution_count": null,
   "id": "a59265c3",
   "metadata": {},
   "outputs": [],
   "source": [
    "nn"
   ]
  },
  {
   "cell_type": "code",
   "execution_count": null,
   "id": "79da5fb3",
   "metadata": {},
   "outputs": [],
   "source": []
  },
  {
   "cell_type": "code",
   "execution_count": 239,
   "id": "ebcd71fb",
   "metadata": {},
   "outputs": [
    {
     "data": {
      "image/png": "[encoded data removed]",
      "text/plain": [
       "<Figure size 640x480 with 1 Axes>"
      ]
     },
     "metadata": {},
     "output_type": "display_data"
    }
   ],
   "source": [
    "gf=ddf['Neighbourhood'].value_counts()\n",
    "gf.head().plot.bar()\n",
    "plt.show()"
   ]
  },
  {
   "cell_type": "code",
   "execution_count": 242,
   "id": "e3426d4f",
   "metadata": {},
   "outputs": [
    {
     "ename": "SyntaxError",
     "evalue": "invalid syntax (2539956996.py, line 1)",
     "output_type": "error",
     "traceback": [
      "\u001b[1;36m  Cell \u001b[1;32mIn[242], line 1\u001b[1;36m\u001b[0m\n\u001b[1;33m    ujnn=df['Area'].value_counts(<300)\u001b[0m\n\u001b[1;37m                                 ^\u001b[0m\n\u001b[1;31mSyntaxError\u001b[0m\u001b[1;31m:\u001b[0m invalid syntax\n"
     ]
    }
   ],
   "source": []
  },
  {
   "cell_type": "code",
   "execution_count": 246,
   "id": "704f58c8",
   "metadata": {},
   "outputs": [
    {
     "data": {
      "text/plain": [
       "طيبة بمنطقة البيداء      1\n",
       "عرقة                     1\n",
       "على بعد 10.75 كم جنو…    1\n",
       "على بعد 265كم شمال ل…    1\n",
       "المخرم                   1\n",
       "Name: Neighbourhood, dtype: int64"
      ]
     },
     "execution_count": 246,
     "metadata": {},
     "output_type": "execute_result"
    }
   ],
   "source": [
    "jh=ddf['Neighbourhood'].value_counts()\n",
    "jh.tail()"
   ]
  },
  {
   "cell_type": "code",
   "execution_count": null,
   "id": "e4138871",
   "metadata": {},
   "outputs": [],
   "source": []
  }
 ],
 "metadata": {
  "kernelspec": {
   "display_name": "Python 3 (ipykernel)",
   "language": "python",
   "name": "python3"
  },
  "language_info": {
   "codemirror_mode": {
    "name": "ipython",
    "version": 3
   },
   "file_extension": ".py",
   "mimetype": "text/x-python",
   "name": "python",
   "nbconvert_exporter": "python",
   "pygments_lexer": "ipython3",
   "version": "3.10.9"
  }
 },
 "nbformat": 4,
 "nbformat_minor": 5
}
