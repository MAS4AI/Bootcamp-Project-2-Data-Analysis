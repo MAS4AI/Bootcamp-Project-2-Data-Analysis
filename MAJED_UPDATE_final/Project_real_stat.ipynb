{
 "cells": [
  {
   "cell_type": "code",
   "execution_count": null,
   "id": "cab54ace",
   "metadata": {},
   "outputs": [],
   "source": [
    "import pandas as pd \n",
    "import matplotlib.pyplot as plt\n",
    "!pip install arabic-reshaper\n",
    "!pip install python-bidi\n",
    "!pip install pandas-profiling\n",
    "import arabic_reshaper\n",
    "from bidi.algorithm import get_display\n",
    "from pandas_profiling import ProfileReport\n"
   ]
  },
  {
   "cell_type": "code",
   "execution_count": null,
   "id": "1b6c5055",
   "metadata": {},
   "outputs": [],
   "source": [
    "def get_top_50_names(names,Areaa):\n",
    "    i = Areaa\n",
    "    name_neighbour_above_50 = []\n",
    "    number_of_sales_above_50 = []\n",
    "\n",
    "    for name in names:\n",
    "        Count = i.loc[df_clean['Neighbourhood'] == name]\n",
    "        count = Count.shape[0]\n",
    "        if count > 50:\n",
    "            name_neighbour_above_50.append(name)\n",
    "            number_of_sales_above_50.append(count)\n",
    "\n",
    "    return name_neighbour_above_50, number_of_sales_above_50\n"
   ]
  },
  {
   "cell_type": "code",
   "execution_count": null,
   "id": "239b13d5",
   "metadata": {},
   "outputs": [],
   "source": [
    "def calculate_average_price(name_list, data_frame):\n",
    "    averages = []\n",
    "    for name in name_list:\n",
    "        neighborhood_data = data_frame.loc[df_clean['Neighbourhood'] == name]\n",
    "        average_price = neighborhood_data['Price_per_meter'].mean()\n",
    "        averages.append(average_price)\n",
    "    return averages\n"
   ]
  },
  {
   "cell_type": "code",
   "execution_count": null,
   "id": "7f46a799",
   "metadata": {},
   "outputs": [],
   "source": [
    "df= pd.read_csv('../Data/real_state_riyadh.csv')"
   ]
  },
  {
   "cell_type": "code",
   "execution_count": null,
   "id": "e8d683f2",
   "metadata": {},
   "outputs": [],
   "source": [
    "df.head()"
   ]
  },
  {
   "cell_type": "code",
   "execution_count": null,
   "id": "1f2c8d2f",
   "metadata": {},
   "outputs": [],
   "source": [
    "#Apply the essential EDA steps: head, shape, info, describe, missing values\n",
    "print('''\n",
    "    shape of the dataFrame {}\n",
    "    info for the dataFrame {}\n",
    "    Null value {}\n",
    "'''.format(df.shape,df.info,df.isnull().sum().sum()))"
   ]
  },
  {
   "cell_type": "code",
   "execution_count": null,
   "id": "cbcedd62",
   "metadata": {},
   "outputs": [],
   "source": [
    "profile = ProfileReport(df)\n",
    "profile.to_notebook_iframe()"
   ]
  },
  {
   "cell_type": "code",
   "execution_count": null,
   "id": "3e8a8363",
   "metadata": {},
   "outputs": [],
   "source": [
    "unique_names = []\n",
    "for name in df['Neighbourhood']:\n",
    "    if name not in unique_names:\n",
    "        unique_names.append(name)\n",
    "\n",
    "for name in unique_names:\n",
    "    print(name)"
   ]
  },
  {
   "cell_type": "code",
   "execution_count": null,
   "id": "addee235",
   "metadata": {},
   "outputs": [],
   "source": [
    "# Create a new DataFrame without rows containing names with numbers\n",
    "df_clean = df[~df['Neighbourhood'].str.contains('\\d')]\n",
    "\n",
    "df_clean"
   ]
  },
  {
   "cell_type": "code",
   "execution_count": null,
   "id": "a885840c",
   "metadata": {},
   "outputs": [],
   "source": [
    "# Droping columns\n",
    "df_clean.drop('transactionـnumber', inplace=True, axis=1)\n",
    "df_clean.drop('Plannedـtransactionـdetails', inplace=True, axis=1)\n",
    "df_clean"
   ]
  },
  {
   "cell_type": "code",
   "execution_count": null,
   "id": "e450059a",
   "metadata": {},
   "outputs": [],
   "source": [
    "# df = df.drop(df[df['Neighbourhood'] == '10186 فى/ 28/ 7/ 142…'].index, axis=0)\n",
    "# df"
   ]
  },
  {
   "cell_type": "code",
   "execution_count": null,
   "id": "a77697fe",
   "metadata": {},
   "outputs": [],
   "source": [
    "df_clean['Price_per_meter'] = df_clean['Price_per_meter'].str.replace(',', '')\n",
    "df_clean['Area'] = df_clean['Area'].str.replace(',', '')\n",
    "df_clean"
   ]
  },
  {
   "cell_type": "code",
   "execution_count": null,
   "id": "99bd9440",
   "metadata": {},
   "outputs": [],
   "source": [
    "filtered_df = df_clean.loc[df['Neighbourhood'] == 'الرمال']"
   ]
  },
  {
   "cell_type": "code",
   "execution_count": null,
   "id": "32801564",
   "metadata": {},
   "outputs": [],
   "source": [
    "df_clean['Area']=df_clean['Area'].astype(float)\n",
    "df_clean['Price_per_meter']=df_clean['Price_per_meter'].astype(float)"
   ]
  },
  {
   "cell_type": "code",
   "execution_count": null,
   "id": "b0612e32",
   "metadata": {},
   "outputs": [],
   "source": [
    "profile = ProfileReport(df_clean)\n",
    "profile.to_notebook_iframe()"
   ]
  },
  {
   "cell_type": "code",
   "execution_count": null,
   "id": "4fb3f6fc",
   "metadata": {},
   "outputs": [],
   "source": [
    "df_clean['Total_price'].sum()"
   ]
  },
  {
   "cell_type": "code",
   "execution_count": null,
   "id": "901b7ad1",
   "metadata": {},
   "outputs": [],
   "source": [
    "df_clean.shape[0]"
   ]
  },
  {
   "cell_type": "code",
   "execution_count": null,
   "id": "a909221e",
   "metadata": {},
   "outputs": [],
   "source": [
    "df_clean.isnull().sum()"
   ]
  },
  {
   "cell_type": "code",
   "execution_count": null,
   "id": "838df5c9",
   "metadata": {},
   "outputs": [],
   "source": [
    "# df.to_csv('/Users/majed-abdulkareem/Desktop/laps/Bootcamp-Project-2-Data-Analysis/Data/SAles.csv')"
   ]
  },
  {
   "cell_type": "code",
   "execution_count": null,
   "id": "d080c188",
   "metadata": {},
   "outputs": [],
   "source": [
    "def months_realEstatesNumber(months):\n",
    "    \n",
    "    realEstatesNumber = [] \n",
    "    \n",
    "    #save each month's number of occurrences in the dataset \"Date\" column\n",
    "    for month in months:\n",
    "        realEstatesNumber.append(df_clean[\"Date\"].str.contains(month).sum())\n",
    "    \n",
    "    return realEstatesNumber\n",
    "        \n",
    "def days_realEstatesNumber(month, days):\n",
    "    \n",
    "    realEstatesNumber = []\n",
    "    \n",
    "    #save each day's number of occurrences in a specific month in the dataset \"Date\" column\n",
    "    for day in days:\n",
    "        realEstatesNumber.append(df_clean[\"Date\"].str.contains('(?=.*'+month+')(?=.*'+day+')').sum())\n",
    "        \n",
    "    return realEstatesNumber"
   ]
  },
  {
   "cell_type": "code",
   "execution_count": null,
   "id": "213f3dd1",
   "metadata": {},
   "outputs": [],
   "source": [
    "months = [\"January\",\"February\",\"March\"]\n",
    "days = [\"Sunday\",\"Monday\",\"Tuesday\",\"Wednesday\",\"Thursday\",\"Friday\",\"Saturday\"]\n",
    "\n",
    "#create a list that will contains the number of real estates for each month\n",
    "months_realEstatesNumberList = months_realEstatesNumber(months)\n",
    "\n",
    "#save the index of the month with the most number of real estates\n",
    "max_index = months_realEstatesNumberList.index(max(months_realEstatesNumberList))\n",
    "\n",
    "#retrieve the name of the month with the most number of real estates\n",
    "max_index_month = months[max_index]\n",
    "\n",
    "#create a list that will contains the number of real estates for each day of the month saved in max_index_month\n",
    "days_realEstatesNumberList = days_realEstatesNumber(max_index_month, days)"
   ]
  },
  {
   "cell_type": "code",
   "execution_count": null,
   "id": "c5cec170",
   "metadata": {},
   "outputs": [],
   "source": [
    "#plot two pie charts using subplot\n",
    "\n",
    "plt.figure(figsize=[15,7])\n",
    "plt.suptitle('Real Estates Number In The First Quarter',fontsize = 20)\n",
    "\n",
    "#first\n",
    "plt.subplot(1,2,1) \n",
    "\n",
    "plt.title('Real Estates In Q1 Months')\n",
    "plt.pie(months_realEstatesNumberList,labels=months, autopct='%1.1f%%', startangle=90, shadow=True, radius=1, explode = [0.05,0.05,0.05], colors=[\"cornflowerblue\",\"Tan\",\"lightskyblue\"])\n",
    "\n",
    "\n",
    "#second\n",
    "plt.subplot(1,2,2)\n",
    "# royalblue\n",
    "# lightsteelblue\n",
    "plt.title('Real Estates In '+months[max_index]+' Days')\n",
    "plt.pie(days_realEstatesNumberList,labels=days, autopct='%1.1f%%', startangle=90, shadow=True, radius=1, explode = [0.05,0.05,0.05,0.05,0.05,0.05,0.05], colors=[\"cornflowerblue\",\"Tan\",\"lightskyblue\",\"Dodgerblue\",\"lightsteelblue\",\"Papayawhip\",\"royalblue\"]);"
   ]
  },
  {
   "cell_type": "code",
   "execution_count": null,
   "id": "b1763207",
   "metadata": {},
   "outputs": [],
   "source": [
    "Area_under300 = df_clean[df_clean['Area'] < 300]\n",
    "AreaBetween300_600 = df_clean[df_clean['Area'].between(300,600)]\n",
    "AreaAbove_600 = df_clean[df_clean['Area']>600]"
   ]
  },
  {
   "cell_type": "code",
   "execution_count": null,
   "id": "4d381659",
   "metadata": {},
   "outputs": [],
   "source": [
    "\n",
    "Areas = [Area_under300.shape[0], AreaBetween300_600.shape[0], AreaAbove_600.shape[0]]\n",
    "Area_size = ['less than 300m', 'between 300m & 600m', 'Above 600m']\n",
    "\n",
    "Area_size = ['less than 300m', 'between 300m & 600m', 'Above 600m']\n",
    "colors = [\"lightskyblue\", \"tan\", \"cornflowerblue\"]\n",
    "\n",
    "plt.figure(figsize=(8, 6))\n",
    "\n",
    "for i, area in enumerate(Areas):\n",
    "    plt.bar(Area_size[i], area, color=colors[i], label=Area_size[i])\n",
    "    plt.text(i, area, str(area), ha='center', va='bottom')\n",
    "\n",
    "plt.xlabel('Size', fontsize=12)\n",
    "plt.ylabel('Sales', fontsize=12)\n",
    "plt.title('Number of Sales by Area Size', fontsize=14)\n",
    "plt.tight_layout()\n",
    "\n",
    "plt.legend()\n",
    "\n",
    "plt.show()\n"
   ]
  },
  {
   "cell_type": "code",
   "execution_count": null,
   "id": "98f6659a",
   "metadata": {},
   "outputs": [],
   "source": [
    "plt.figure(figsize=(15, 6))  # Set the figure size (width, height)\n",
    "\n",
    "plt.pie(Areas, labels=Area_size, autopct='%1.1f%%',colors=[\"lightskyblue\",\"Tan\",\"cornflowerblue\"],explode=[0.1,0.03,0.03])\n",
    "plt.title('Sales Distribution', fontsize=14)\n",
    "\n",
    "plt.show()"
   ]
  },
  {
   "cell_type": "code",
   "execution_count": null,
   "id": "d58d90fd",
   "metadata": {},
   "outputs": [],
   "source": [
    "unique_names300to600 = []\n",
    "for name in AreaBetween300_600['Neighbourhood']:\n",
    "    if name not in unique_names300to600:\n",
    "        unique_names300to600.append(name)\n",
    "\n",
    "name_neighbour_above_50, number_of_sales_above_50 = get_top_50_names(unique_names300to600,AreaBetween300_600)\n",
    "print(name_neighbour_above_50)\n",
    "\n",
    "\n"
   ]
  },
  {
   "cell_type": "code",
   "execution_count": null,
   "id": "b3d0a127",
   "metadata": {},
   "outputs": [],
   "source": [
    "unique_names600 = []\n",
    "for name in AreaAbove_600['Neighbourhood']:\n",
    "    if name not in unique_names600:\n",
    "        unique_names600.append(name)\n",
    "name_neighbour_50_600, number_of_sales_50_600 = get_top_50_names(unique_names600,AreaAbove_600)\n",
    "print(name_neighbour_50_600)\n"
   ]
  },
  {
   "cell_type": "code",
   "execution_count": null,
   "id": "8887b7a3",
   "metadata": {},
   "outputs": [],
   "source": [
    "#between 300 to 600\n",
    "\n",
    "# Reshape and format the Arabic labels\n",
    "reshaped_labels = [get_display(arabic_reshaper.reshape(label)) for label in name_neighbour_above_50]\n",
    "\n",
    "# Plotting code\n",
    "plt.figure(figsize=(10, 6))  # Set the figure size\n",
    "\n",
    "plt.bar(reshaped_labels, number_of_sales_above_50, label='Neighbourhood',color ='Tan')  # Add label for the legend\n",
    "plt.xlabel('Neighbourhood', fontsize=12)  # Set x-label with font size\n",
    "plt.ylabel('Sales', fontsize=12)  # Set y-label with font size\n",
    "plt.xticks(rotation='vertical')\n",
    "\n",
    "for i, name in enumerate(number_of_sales_above_50):\n",
    "    plt.text(i, name, str(name), ha='center', va='bottom')\n",
    "\n",
    "plt.title('Sales Distribution by Neighbourhood', fontsize=14)  # Add title with font size\n",
    "plt.legend(fontsize=10)  # Add legend with font size\n",
    "\n",
    "plt.show()\n"
   ]
  },
  {
   "cell_type": "code",
   "execution_count": null,
   "id": "66379662",
   "metadata": {},
   "outputs": [],
   "source": [
    "reshaped_labels2 = [get_display(arabic_reshaper.reshape(label)) for label in name_neighbour_50_600]\n",
    "\n",
    "plt.figure(figsize=(8, 6))  # Set the figure size\n",
    "\n",
    "plt.bar(reshaped_labels2, number_of_sales_50_600, label='Sales',color ='cornflowerblue')  # Plot the bar chart with a label\n",
    "plt.xlabel('Neighbourhood', fontsize=12)  # Set x-label with font size\n",
    "plt.ylabel('Sales', fontsize=12)  # Set y-label with font size\n",
    "plt.xticks(rotation='vertical')\n",
    "\n",
    "for i, name in enumerate(number_of_sales_50_600):\n",
    "    plt.text(i, name, str(name), ha='center', va='bottom')  # Add text annotations to the bars\n",
    "\n",
    "plt.title('Sales Distribution by Neighbourhood', fontsize=14)  # Add title with font size\n",
    "\n",
    "plt.legend()  # Display the legend\n",
    "\n",
    "plt.show()"
   ]
  },
  {
   "cell_type": "code",
   "execution_count": null,
   "id": "3fe1edfa",
   "metadata": {},
   "outputs": [],
   "source": [
    "\n",
    "\n",
    "plt.figure(figsize=(12, 6))  # Adjust the figure size as needed\n",
    "\n",
    "# First subplot: top 50 names\n",
    "plt.subplot(1, 2, 1)\n",
    "plt.bar(reshaped_labels, number_of_sales_above_50,color ='Tan')\n",
    "plt.xlabel('Neighbourhood', fontsize=12)\n",
    "plt.ylabel('Sales', fontsize=12)\n",
    "plt.xticks(rotation='vertical', fontsize=10)\n",
    "plt.title('Neighbourhood Sales 300-600', fontsize=14)\n",
    "plt.tight_layout()  # Adjust spacing within the subplot\n",
    "plt.legend(['Sales'], loc='best')\n",
    "\n",
    "# Second subplot: names with 50 to 600 sales\n",
    "plt.subplot(1, 2, 2)\n",
    "plt.bar(reshaped_labels2, number_of_sales_50_600,color ='cornflowerblue')\n",
    "plt.xlabel('Neighbourhood', fontsize=12)\n",
    "plt.ylabel('Sales', fontsize=12)\n",
    "plt.xticks(rotation='vertical', fontsize=10)\n",
    "plt.title('Neighbourhood Sales >600', fontsize=14)\n",
    "plt.tight_layout()  # Adjust spacing within the subplot\n",
    "plt.legend(['Sales'], loc='best')\n",
    "\n",
    "plt.subplots_adjust(wspace=0.5)  # Adjust spacing between subplots\n",
    "\n",
    "plt.suptitle('Sales by Neighbourhood', fontsize=16, x=0.52, y=1)  # Title for the overall figure\n",
    "\n",
    "plt.show()\n"
   ]
  },
  {
   "cell_type": "code",
   "execution_count": null,
   "id": "13720503",
   "metadata": {},
   "outputs": [],
   "source": [
    "AVE600 = calculate_average_price(name_neighbour_50_600, AreaAbove_600)"
   ]
  },
  {
   "cell_type": "code",
   "execution_count": null,
   "id": "ee277ab3",
   "metadata": {},
   "outputs": [],
   "source": [
    "plt.figure(figsize=(8, 6))  # Adjust the figure size as needed\n",
    "\n",
    "plt.bar(reshaped_labels2, AVE600,color ='cornflowerblue')\n",
    "plt.xlabel('Neighbourhood name', fontsize=12)\n",
    "plt.ylabel('Price per meter', fontsize=12)\n",
    "plt.xticks(rotation='vertical', fontsize=10)\n",
    "plt.title('Average Price per Meter in Neighbourhoods (Above 600)', fontsize=14)\n",
    "\n",
    "for i, name in enumerate(AVE600):\n",
    "    plt.text(i, name, str(round(name)), ha='center', va='bottom')\n",
    "\n",
    "plt.tight_layout()  # Adjust spacing\n",
    "\n",
    "plt.legend(['Price per meter'], loc='best')\n",
    "\n",
    "plt.show()"
   ]
  },
  {
   "cell_type": "code",
   "execution_count": null,
   "id": "c22a9374",
   "metadata": {},
   "outputs": [],
   "source": [
    "AVE300_600 = calculate_average_price(name_neighbour_above_50, AreaBetween300_600)"
   ]
  },
  {
   "cell_type": "code",
   "execution_count": null,
   "id": "6fd8d335",
   "metadata": {},
   "outputs": [],
   "source": [
    "plt.figure(figsize=(12, 6))  # Adjust the figure size as needed\n",
    "\n",
    "plt.bar(reshaped_labels, AVE300_600,color='Tan')\n",
    "plt.xlabel('Neighbourhood name', fontsize=12)\n",
    "plt.ylabel('Price per meter', fontsize=12)\n",
    "plt.xticks(rotation='vertical', fontsize=10)\n",
    "plt.title('Average Price per Meter in Neighbourhoods (Between 300 and 600)', fontsize=14)\n",
    "\n",
    "for i, name in enumerate(AVE300_600):\n",
    "    plt.text(i, name, str(round(name)), ha='center', va='bottom')\n",
    "\n",
    "plt.tight_layout()  # Adjust spacing\n",
    "\n",
    "plt.legend(['Price per meter'], loc='best')\n",
    "\n",
    "plt.show()"
   ]
  },
  {
   "cell_type": "code",
   "execution_count": null,
   "id": "35f84a4c",
   "metadata": {},
   "outputs": [],
   "source": [
    "#chart 1"
   ]
  },
  {
   "cell_type": "code",
   "execution_count": null,
   "id": "35d70808",
   "metadata": {},
   "outputs": [],
   "source": [
    "#reshaped_labels2 = [get_display(arabic_reshaper.reshape(label)) for label in name_neighbour_50_600]\n",
    "count_Neighbourhood=df_clean['Neighbourhood'].value_counts()\n",
    "count_Neighbourhood.head().plot.bar(fontsize=12, color='grey')\n",
    "plt.title('Top selling residential nighbourhood', fontsize=14, weight=\"bold\")\n",
    "width_bar = 0.50\n",
    "\n",
    "plt.show()"
   ]
  },
  {
   "cell_type": "code",
   "execution_count": null,
   "id": "217b5fda",
   "metadata": {},
   "outputs": [],
   "source": [
    "#char 2"
   ]
  },
  {
   "cell_type": "code",
   "execution_count": null,
   "id": "2afb4e11",
   "metadata": {},
   "outputs": [],
   "source": [
    "ddf['Neighbourhood']=ddf['Neighbourhood'].replace(['مطار الملك خالد الدولي'], 'بنبان')"
   ]
  },
  {
   "cell_type": "code",
   "execution_count": null,
   "id": "fc1b0da3",
   "metadata": {},
   "outputs": [],
   "source": [
    "count_Neighbourhood_t=df_clean['Neighbourhood'].value_counts()\n",
    "count_Neighbourhood_t.tail(3).plot.bar(fontsize=12, color='grey')\n",
    "plt.title('count_Neighbourhood', fontsize=14, weight=\"bold\")\n",
    "width_bar = 0.50\n",
    "plt.show()"
   ]
  },
  {
   "cell_type": "code",
   "execution_count": null,
   "id": "312f6fec",
   "metadata": {},
   "outputs": [],
   "source": [
    "dedf=pd.read_csv(r\"../Data/real_state_riyadh.csv\", usecols= ['Total_price','Neighbourhood'])"
   ]
  },
  {
   "cell_type": "code",
   "execution_count": null,
   "id": "f986ce80",
   "metadata": {},
   "outputs": [],
   "source": [
    "dedf"
   ]
  },
  {
   "cell_type": "code",
   "execution_count": null,
   "id": "d1b422b6",
   "metadata": {},
   "outputs": [],
   "source": [
    "dedf.nlargest(n=5, columns=['Total_price'])"
   ]
  },
  {
   "cell_type": "code",
   "execution_count": null,
   "id": "751fed7c",
   "metadata": {},
   "outputs": [],
   "source": []
  }
 ],
 "metadata": {
  "kernelspec": {
   "display_name": "Python 3 (ipykernel)",
   "language": "python",
   "name": "python3"
  },
  "language_info": {
   "codemirror_mode": {
    "name": "ipython",
    "version": 3
   },
   "file_extension": ".py",
   "mimetype": "text/x-python",
   "name": "python",
   "nbconvert_exporter": "python",
   "pygments_lexer": "ipython3",
   "version": "3.9.15 (main, Nov  4 2022, 11:11:31) \n[Clang 12.0.0 ]"
  },
  "vscode": {
   "interpreter": {
    "hash": "bdf603378775d7f7fdfc3693152b0c93d0fa2796c4929420373ca679d9644cd1"
   }
  }
 },
 "nbformat": 4,
 "nbformat_minor": 5
}
