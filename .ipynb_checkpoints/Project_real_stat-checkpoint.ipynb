{
 "cells": [
  {
   "cell_type": "code",
   "execution_count": null,
   "id": "cab54ace",
   "metadata": {},
   "outputs": [
    {
     "name": "stdout",
     "output_type": "stream",
     "text": [
      "Requirement already satisfied: pandas-profiling in c:\\users\\hp\\anaconda3\\lib\\site-packages (3.6.6)\n",
      "Requirement already satisfied: ydata-profiling in c:\\users\\hp\\anaconda3\\lib\\site-packages (from pandas-profiling) (4.2.0)\n",
      "Requirement already satisfied: requests<3,>=2.24.0 in c:\\users\\hp\\anaconda3\\lib\\site-packages (from ydata-profiling->pandas-profiling) (2.28.1)\n",
      "Requirement already satisfied: multimethod<2,>=1.4 in c:\\users\\hp\\anaconda3\\lib\\site-packages (from ydata-profiling->pandas-profiling) (1.9.1)\n",
      "Requirement already satisfied: tqdm<5,>=4.48.2 in c:\\users\\hp\\anaconda3\\lib\\site-packages (from ydata-profiling->pandas-profiling) (4.64.1)\n",
      "Requirement already satisfied: visions[type_image_path]==0.7.5 in c:\\users\\hp\\anaconda3\\lib\\site-packages (from ydata-profiling->pandas-profiling) (0.7.5)\n",
      "Requirement already satisfied: typeguard<3,>=2.13.2 in c:\\users\\hp\\anaconda3\\lib\\site-packages (from ydata-profiling->pandas-profiling) (2.13.3)\n",
      "Requirement already satisfied: scipy<1.11,>=1.4.1 in c:\\users\\hp\\anaconda3\\lib\\site-packages (from ydata-profiling->pandas-profiling) (1.10.0)\n",
      "Requirement already satisfied: wordcloud>=1.9.1 in c:\\users\\hp\\anaconda3\\lib\\site-packages (from ydata-profiling->pandas-profiling) (1.9.2)\n",
      "Requirement already satisfied: statsmodels<1,>=0.13.2 in c:\\users\\hp\\anaconda3\\lib\\site-packages (from ydata-profiling->pandas-profiling) (0.13.5)\n",
      "Requirement already satisfied: imagehash==4.3.1 in c:\\users\\hp\\anaconda3\\lib\\site-packages (from ydata-profiling->pandas-profiling) (4.3.1)\n",
      "Requirement already satisfied: phik<0.13,>=0.11.1 in c:\\users\\hp\\anaconda3\\lib\\site-packages (from ydata-profiling->pandas-profiling) (0.12.3)\n",
      "Requirement already satisfied: dacite>=1.8 in c:\\users\\hp\\anaconda3\\lib\\site-packages (from ydata-profiling->pandas-profiling) (1.8.1)\n",
      "Requirement already satisfied: pandas!=1.4.0,<2,>1.1 in c:\\users\\hp\\anaconda3\\lib\\site-packages (from ydata-profiling->pandas-profiling) (1.5.3)\n",
      "Requirement already satisfied: PyYAML<6.1,>=5.0.0 in c:\\users\\hp\\anaconda3\\lib\\site-packages (from ydata-profiling->pandas-profiling) (6.0)\n",
      "Requirement already satisfied: matplotlib<4,>=3.2 in c:\\users\\hp\\anaconda3\\lib\\site-packages (from ydata-profiling->pandas-profiling) (3.7.0)\n",
      "Requirement already satisfied: numpy<1.24,>=1.16.0 in c:\\users\\hp\\anaconda3\\lib\\site-packages (from ydata-profiling->pandas-profiling) (1.23.5)\n",
      "Requirement already satisfied: seaborn<0.13,>=0.10.1 in c:\\users\\hp\\anaconda3\\lib\\site-packages (from ydata-profiling->pandas-profiling) (0.12.2)\n",
      "Requirement already satisfied: pydantic<2,>=1.8.1 in c:\\users\\hp\\anaconda3\\lib\\site-packages (from ydata-profiling->pandas-profiling) (1.10.8)\n",
      "Requirement already satisfied: htmlmin==0.1.12 in c:\\users\\hp\\anaconda3\\lib\\site-packages (from ydata-profiling->pandas-profiling) (0.1.12)\n",
      "Requirement already satisfied: jinja2<3.2,>=2.11.1 in c:\\users\\hp\\anaconda3\\lib\\site-packages (from ydata-profiling->pandas-profiling) (3.1.2)\n",
      "Requirement already satisfied: PyWavelets in c:\\users\\hp\\anaconda3\\lib\\site-packages (from imagehash==4.3.1->ydata-profiling->pandas-profiling) (1.4.1)\n",
      "Requirement already satisfied: pillow in c:\\users\\hp\\anaconda3\\lib\\site-packages (from imagehash==4.3.1->ydata-profiling->pandas-profiling) (9.4.0)\n",
      "Requirement already satisfied: attrs>=19.3.0 in c:\\users\\hp\\anaconda3\\lib\\site-packages (from visions[type_image_path]==0.7.5->ydata-profiling->pandas-profiling) (22.1.0)\n",
      "Requirement already satisfied: tangled-up-in-unicode>=0.0.4 in c:\\users\\hp\\anaconda3\\lib\\site-packages (from visions[type_image_path]==0.7.5->ydata-profiling->pandas-profiling) (0.2.0)\n",
      "Requirement already satisfied: networkx>=2.4 in c:\\users\\hp\\anaconda3\\lib\\site-packages (from visions[type_image_path]==0.7.5->ydata-profiling->pandas-profiling) (2.8.4)\n",
      "Requirement already satisfied: MarkupSafe>=2.0 in c:\\users\\hp\\anaconda3\\lib\\site-packages (from jinja2<3.2,>=2.11.1->ydata-profiling->pandas-profiling) (2.1.1)\n",
      "Requirement already satisfied: pyparsing>=2.3.1 in c:\\users\\hp\\anaconda3\\lib\\site-packages (from matplotlib<4,>=3.2->ydata-profiling->pandas-profiling) (3.0.9)\n",
      "Requirement already satisfied: kiwisolver>=1.0.1 in c:\\users\\hp\\anaconda3\\lib\\site-packages (from matplotlib<4,>=3.2->ydata-profiling->pandas-profiling) (1.4.4)\n",
      "Requirement already satisfied: cycler>=0.10 in c:\\users\\hp\\anaconda3\\lib\\site-packages (from matplotlib<4,>=3.2->ydata-profiling->pandas-profiling) (0.11.0)\n",
      "Requirement already satisfied: contourpy>=1.0.1 in c:\\users\\hp\\anaconda3\\lib\\site-packages (from matplotlib<4,>=3.2->ydata-profiling->pandas-profiling) (1.0.5)\n",
      "Requirement already satisfied: fonttools>=4.22.0 in c:\\users\\hp\\anaconda3\\lib\\site-packages (from matplotlib<4,>=3.2->ydata-profiling->pandas-profiling) (4.25.0)\n",
      "Requirement already satisfied: packaging>=20.0 in c:\\users\\hp\\anaconda3\\lib\\site-packages (from matplotlib<4,>=3.2->ydata-profiling->pandas-profiling) (22.0)\n",
      "Requirement already satisfied: python-dateutil>=2.7 in c:\\users\\hp\\anaconda3\\lib\\site-packages (from matplotlib<4,>=3.2->ydata-profiling->pandas-profiling) (2.8.2)\n",
      "Requirement already satisfied: pytz>=2020.1 in c:\\users\\hp\\anaconda3\\lib\\site-packages (from pandas!=1.4.0,<2,>1.1->ydata-profiling->pandas-profiling) (2022.7)\n",
      "Requirement already satisfied: joblib>=0.14.1 in c:\\users\\hp\\anaconda3\\lib\\site-packages (from phik<0.13,>=0.11.1->ydata-profiling->pandas-profiling) (1.1.1)\n",
      "Requirement already satisfied: typing-extensions>=4.2.0 in c:\\users\\hp\\anaconda3\\lib\\site-packages (from pydantic<2,>=1.8.1->ydata-profiling->pandas-profiling) (4.4.0)\n",
      "Requirement already satisfied: urllib3<1.27,>=1.21.1 in c:\\users\\hp\\anaconda3\\lib\\site-packages (from requests<3,>=2.24.0->ydata-profiling->pandas-profiling) (1.26.14)\n",
      "Requirement already satisfied: charset-normalizer<3,>=2 in c:\\users\\hp\\anaconda3\\lib\\site-packages (from requests<3,>=2.24.0->ydata-profiling->pandas-profiling) (2.0.4)\n",
      "Requirement already satisfied: certifi>=2017.4.17 in c:\\users\\hp\\anaconda3\\lib\\site-packages (from requests<3,>=2.24.0->ydata-profiling->pandas-profiling) (2022.12.7)\n",
      "Requirement already satisfied: idna<4,>=2.5 in c:\\users\\hp\\anaconda3\\lib\\site-packages (from requests<3,>=2.24.0->ydata-profiling->pandas-profiling) (3.4)\n",
      "Requirement already satisfied: patsy>=0.5.2 in c:\\users\\hp\\anaconda3\\lib\\site-packages (from statsmodels<1,>=0.13.2->ydata-profiling->pandas-profiling) (0.5.3)\n",
      "Requirement already satisfied: colorama in c:\\users\\hp\\anaconda3\\lib\\site-packages (from tqdm<5,>=4.48.2->ydata-profiling->pandas-profiling) (0.4.6)\n",
      "Requirement already satisfied: six in c:\\users\\hp\\anaconda3\\lib\\site-packages (from patsy>=0.5.2->statsmodels<1,>=0.13.2->ydata-profiling->pandas-profiling) (1.16.0)\n",
      "Requirement already satisfied: arabic-reshaper in c:\\users\\hp\\anaconda3\\lib\\site-packages (3.0.0)\n",
      "Requirement already satisfied: python-bidi in c:\\users\\hp\\anaconda3\\lib\\site-packages (0.4.2)\n",
      "Requirement already satisfied: six in c:\\users\\hp\\anaconda3\\lib\\site-packages (from python-bidi) (1.16.0)\n"
     ]
    }
   ],
   "source": [
    "# importing the proper librarys\n",
    "import pandas as pd \n",
    "import matplotlib.pyplot as plt\n",
    "!pip install arabic-reshaper\n",
    "!pip install python-bidi\n",
    "!pip install pandas-profiling\n",
    "import arabic_reshaper\n",
    "from bidi.algorithm import get_display\n",
    "from pandas_profiling import ProfileReport\n",
    "matplotlib.use('Qt5Agg')\n",
    "import tkinter as tk\n",
    "from tkinter.filedialog import askopenfilename\n",
    "import time\n"
   ]
  },
  {
   "cell_type": "code",
   "execution_count": null,
   "id": "1b6c5055",
   "metadata": {},
   "outputs": [],
   "source": [
    "def get_top_50_names(names,Areaa): # function to fillter the top sales \n",
    "    i = Areaa\n",
    "    name_neighbour_above_50 = []\n",
    "    number_of_sales_above_50 = []\n",
    "\n",
    "    for name in names:\n",
    "        Count = i.loc[df_clean['Neighbourhood'] == name]\n",
    "        count = Count.shape[0]\n",
    "        if count > 50:\n",
    "            name_neighbour_above_50.append(name)\n",
    "            number_of_sales_above_50.append(count)\n",
    "\n",
    "    return name_neighbour_above_50, number_of_sales_above_50\n"
   ]
  },
  {
   "cell_type": "code",
   "execution_count": null,
   "id": "239b13d5",
   "metadata": {},
   "outputs": [],
   "source": [
    "def calculate_average_price(name_list, data_frame): # function to calculate the Average for the price per meter \n",
    "    averages = []\n",
    "    for name in name_list:\n",
    "        neighborhood_data = data_frame.loc[df_clean['Neighbourhood'] == name]\n",
    "        average_price = neighborhood_data['Price_per_meter'].mean()\n",
    "        averages.append(average_price)\n",
    "    return averages\n"
   ]
  },
  {
   "cell_type": "code",
   "execution_count": null,
   "id": "7f46a799",
   "metadata": {},
   "outputs": [],
   "source": [
    "df= pd.read_csv('real_state_riyadh.csv')"
   ]
  },
  {
   "cell_type": "code",
   "execution_count": null,
   "id": "e8d683f2",
   "metadata": {},
   "outputs": [],
   "source": [
    "df.head()"
   ]
  },
  {
   "cell_type": "code",
   "execution_count": null,
   "id": "1f2c8d2f",
   "metadata": {},
   "outputs": [],
   "source": [
    "#Apply the essential EDA steps: head, shape, info, describe, missing values\n",
    "print('''\n",
    "    shape of the dataFrame {}\n",
    "    info for the dataFrame {}\n",
    "    Null value {}\n",
    "'''.format(df.shape,df.info,df.isnull().sum().sum()))"
   ]
  },
  {
   "cell_type": "code",
   "execution_count": null,
   "id": "cbcedd62",
   "metadata": {},
   "outputs": [],
   "source": [
    "profile = ProfileReport(df)\n",
    "profile.to_notebook_iframe()\n",
    "# to show the profile report "
   ]
  },
  {
   "cell_type": "code",
   "execution_count": null,
   "id": "3e8a8363",
   "metadata": {},
   "outputs": [],
   "source": [
    "unique_names = []\n",
    "for name in df['Neighbourhood']:\n",
    "    if name not in unique_names:\n",
    "        unique_names.append(name)\n",
    "\n",
    "for name in unique_names:\n",
    "    print(name)\n",
    "# to see the list of the Neighbourhood and what we need to remove "
   ]
  },
  {
   "cell_type": "code",
   "execution_count": null,
   "id": "addee235",
   "metadata": {},
   "outputs": [],
   "source": [
    "# Create a new DataFrame without rows containing names with numbers\n",
    "df_clean = df[~df['Neighbourhood'].str.contains('\\d')]#removing garbage data that has data or number in the Neighbourhood column\n",
    "\n",
    "df_clean"
   ]
  },
  {
   "cell_type": "code",
   "execution_count": null,
   "id": "a885840c",
   "metadata": {},
   "outputs": [],
   "source": [
    "# Droping columns\n",
    "df_clean.drop('transactionـnumber', inplace=True, axis=1)\n",
    "df_clean.drop('Plannedـtransactionـdetails', inplace=True, axis=1)\n",
    "df_clean"
   ]
  },
  {
   "cell_type": "code",
   "execution_count": null,
   "id": "e450059a",
   "metadata": {},
   "outputs": [],
   "source": [
    "# df = df.drop(df[df['Neighbourhood'] == '10186 فى/ 28/ 7/ 142…'].index, axis=0)\n",
    "# df"
   ]
  },
  {
   "cell_type": "code",
   "execution_count": null,
   "id": "a77697fe",
   "metadata": {},
   "outputs": [],
   "source": [
    "df_clean['Price_per_meter'] = df_clean['Price_per_meter'].str.replace(',', '')# filltering the , to so we can do mathmatical operation\n",
    "df_clean['Area'] = df_clean['Area'].str.replace(',', '')\n",
    "df_clean"
   ]
  },
  {
   "cell_type": "code",
   "execution_count": null,
   "id": "99bd9440",
   "metadata": {},
   "outputs": [],
   "source": [
    "filtered_df = df_clean.loc[df['Neighbourhood'] == 'الرمال']"
   ]
  },
  {
   "cell_type": "code",
   "execution_count": null,
   "id": "32801564",
   "metadata": {},
   "outputs": [],
   "source": [
    "df_clean['Area']=df_clean['Area'].astype(float)\n",
    "df_clean['Price_per_meter']=df_clean['Price_per_meter'].astype(float)"
   ]
  },
  {
   "cell_type": "code",
   "execution_count": null,
   "id": "b0612e32",
   "metadata": {},
   "outputs": [],
   "source": [
    "profile = ProfileReport(df_clean)\n",
    "profile.to_notebook_iframe()"
   ]
  },
  {
   "cell_type": "code",
   "execution_count": null,
   "id": "4fb3f6fc",
   "metadata": {},
   "outputs": [],
   "source": [
    "df_clean['Total_price'].sum()"
   ]
  },
  {
   "cell_type": "code",
   "execution_count": 103,
   "id": "901b7ad1",
   "metadata": {},
   "outputs": [
    {
     "data": {
      "text/plain": [
       "14187"
      ]
     },
     "execution_count": 103,
     "metadata": {},
     "output_type": "execute_result"
    }
   ],
   "source": [
    "df_clean.shape[0]"
   ]
  },
  {
   "cell_type": "code",
   "execution_count": 104,
   "id": "a909221e",
   "metadata": {},
   "outputs": [
    {
     "data": {
      "text/plain": [
       "Neighbourhood          0\n",
       "Detailsـtransaction    0\n",
       "Date                   0\n",
       "Total_price            0\n",
       "Area                   0\n",
       "Price_per_meter        0\n",
       "dtype: int64"
      ]
     },
     "execution_count": 104,
     "metadata": {},
     "output_type": "execute_result"
    }
   ],
   "source": [
    "df_clean.isnull().sum()"
   ]
  },
  {
   "cell_type": "code",
   "execution_count": 105,
   "id": "838df5c9",
   "metadata": {},
   "outputs": [],
   "source": [
    "# df.to_csv('/Users/majed-abdulkareem/Desktop/laps/Bootcamp-Project-2-Data-Analysis/Data/SAles.csv')"
   ]
  },
  {
   "cell_type": "code",
   "execution_count": 106,
   "id": "d080c188",
   "metadata": {},
   "outputs": [],
   "source": [
    "def months_realEstatesNumber(months):\n",
    "    \n",
    "    realEstatesNumber = [] \n",
    "    \n",
    "    #save each month's number of occurrences in the dataset \"Date\" column\n",
    "    for month in months:\n",
    "        realEstatesNumber.append(df_clean[\"Date\"].str.contains(month).sum())\n",
    "    \n",
    "    return realEstatesNumber\n",
    "        \n",
    "def days_realEstatesNumber(month, days):\n",
    "    \n",
    "    realEstatesNumber = []\n",
    "    \n",
    "    #save each day's number of occurrences in a specific month in the dataset \"Date\" column\n",
    "    for day in days:\n",
    "        realEstatesNumber.append(df_clean[\"Date\"].str.contains('(?=.*'+month+')(?=.*'+day+')').sum())\n",
    "        \n",
    "    return realEstatesNumber"
   ]
  },
  {
   "cell_type": "code",
   "execution_count": 107,
   "id": "213f3dd1",
   "metadata": {},
   "outputs": [],
   "source": [
    "months = [\"January\",\"February\",\"March\"]\n",
    "days = [\"Sunday\",\"Monday\",\"Tuesday\",\"Wednesday\",\"Thursday\",\"Friday\",\"Saturday\"]\n",
    "\n",
    "#create a list that will contains the number of real estates for each month\n",
    "months_realEstatesNumberList = months_realEstatesNumber(months)\n",
    "\n",
    "#save the index of the month with the most number of real estates\n",
    "max_index = months_realEstatesNumberList.index(max(months_realEstatesNumberList))\n",
    "\n",
    "#retrieve the name of the month with the most number of real estates\n",
    "max_index_month = months[max_index]\n",
    "\n",
    "#create a list that will contains the number of real estates for each day of the month saved in max_index_month\n",
    "days_realEstatesNumberList = days_realEstatesNumber(max_index_month, days)"
   ]
  },
  {
   "cell_type": "code",
   "execution_count": 108,
   "id": "c5cec170",
   "metadata": {},
   "outputs": [],
   "source": [
    "#plot two pie charts using subplot\n",
    "\n",
    "plt.figure(figsize=[15,7])\n",
    "plt.suptitle('Real Estates Number In 2022 First Quarter',fontsize = 20)\n",
    "\n",
    "#first\n",
    "plt.subplot(1,2,1) \n",
    "\n",
    "plt.title('Real Estates In Q1 Months')\n",
    "plt.pie(months_realEstatesNumberList,labels=months, autopct='%1.1f%%', startangle=90, shadow=True, radius=1, explode = [0.05,0.05,0.05], colors=[\"cornflowerblue\",\"Tan\",\"lightskyblue\"])\n",
    "\n",
    "\n",
    "#second\n",
    "plt.subplot(1,2,2)\n",
    "# royalblue\n",
    "# lightsteelblue\n",
    "plt.title('Real Estates In '+months[max_index]+' Days')\n",
    "plt.pie(days_realEstatesNumberList,labels=days, autopct='%1.1f%%', startangle=90, shadow=True, radius=1, explode = [0.05,0.05,0.05,0.05,0.05,0.05,0.05], colors=[\"cornflowerblue\",\"Tan\",\"lightskyblue\",\"Dodgerblue\",\"lightsteelblue\",\"Papayawhip\",\"royalblue\"]);"
   ]
  },
  {
   "cell_type": "code",
   "execution_count": 79,
   "id": "b1763207",
   "metadata": {},
   "outputs": [],
   "source": [
    "Area_under300 = df_clean[df_clean['Area'] < 300]\n",
    "AreaBetween300_600 = df_clean[df_clean['Area'].between(300,600)]\n",
    "AreaAbove_600 = df_clean[df_clean['Area']>600]"
   ]
  },
  {
   "cell_type": "code",
   "execution_count": 80,
   "id": "4d381659",
   "metadata": {},
   "outputs": [
    {
     "name": "stderr",
     "output_type": "stream",
     "text": [
      "C:\\Users\\hp\\AppData\\Local\\Temp\\ipykernel_15140\\2121764660.py:20: UserWarning: Matplotlib is currently using module://matplotlib_inline.backend_inline, which is a non-GUI backend, so cannot show the figure.\n",
      "  plt.show()\n"
     ]
    }
   ],
   "source": [
    "\n",
    "Areas = [Area_under300.shape[0], AreaBetween300_600.shape[0], AreaAbove_600.shape[0]]\n",
    "Area_size = ['less than 300m', 'between 300m & 600m', 'Above 600m']\n",
    "\n",
    "Area_size = ['less than 300m', 'between 300m & 600m', 'Above 600m']\n",
    "colors = [\"lightskyblue\", \"tan\", \"cornflowerblue\"]\n",
    "\n",
    "plt.figure(figsize=(8, 6))\n",
    "\n",
    "for i, area in enumerate(Areas):\n",
    "    plt.bar(Area_size[i], area, color=colors[i], label=Area_size[i])\n",
    "    plt.text(i, area, str(area), ha='center', va='bottom')\n",
    "\n",
    "plt.xlabel('Size', fontsize=12)\n",
    "plt.ylabel('Sales', fontsize=12)\n",
    "plt.title('Number of Sales by Area Size', fontsize=14)\n",
    "plt.tight_layout()\n",
    "\n",
    "plt.legend()\n",
    "\n",
    "plt.show()\n"
   ]
  },
  {
   "cell_type": "code",
   "execution_count": 81,
   "id": "98f6659a",
   "metadata": {},
   "outputs": [
    {
     "name": "stderr",
     "output_type": "stream",
     "text": [
      "C:\\Users\\hp\\AppData\\Local\\Temp\\ipykernel_15140\\2476705176.py:6: UserWarning: Matplotlib is currently using module://matplotlib_inline.backend_inline, which is a non-GUI backend, so cannot show the figure.\n",
      "  plt.show()\n"
     ]
    }
   ],
   "source": [
    "plt.figure(figsize=(15, 6))  # Set the figure size (width, height)\n",
    "\n",
    "plt.pie(Areas, labels=Area_size, autopct='%1.1f%%',colors=[\"lightskyblue\",\"Tan\",\"cornflowerblue\"],explode=[0.1,0.03,0.03])\n",
    "plt.title('Sales Distribution', fontsize=14)\n",
    "\n",
    "plt.show()"
   ]
  },
  {
   "cell_type": "code",
   "execution_count": 82,
   "id": "d58d90fd",
   "metadata": {},
   "outputs": [
    {
     "name": "stdout",
     "output_type": "stream",
     "text": [
      "['اشبيليا', 'الخير', 'الرابية', 'الرمال', 'الروضة', 'السويدى', 'العريجاء', 'العزيزية', 'الفاروق', 'المصفاة', 'الملقا', 'المهدية', 'المونسية', 'النرجس', 'النسيم', 'النظيم', 'الياسمين', 'بدر', 'شرق الرياض', 'شمال البكيرية', 'طويق', 'عريض', 'قرطبة', 'لبن', 'نمار']\n"
     ]
    }
   ],
   "source": [
    "unique_names300to600 = []\n",
    "for name in AreaBetween300_600['Neighbourhood']:\n",
    "    if name not in unique_names300to600:\n",
    "        unique_names300to600.append(name)\n",
    "\n",
    "name_neighbour_above_50, number_of_sales_above_50 = get_top_50_names(unique_names300to600,AreaBetween300_600)\n",
    "print(name_neighbour_above_50)\n",
    "\n",
    "\n"
   ]
  },
  {
   "cell_type": "code",
   "execution_count": 83,
   "id": "b3d0a127",
   "metadata": {},
   "outputs": [
    {
     "name": "stdout",
     "output_type": "stream",
     "text": [
      "['الخير', 'الرمال', 'الروضة', 'المصفاة', 'الملقا', 'النرجس', 'شرق الرياض', 'عريض', 'عكاظ', 'نمار']\n"
     ]
    }
   ],
   "source": [
    "unique_names600 = []\n",
    "for name in AreaAbove_600['Neighbourhood']:\n",
    "    if name not in unique_names600:\n",
    "        unique_names600.append(name)\n",
    "name_neighbour_50_600, number_of_sales_50_600 = get_top_50_names(unique_names600,AreaAbove_600)\n",
    "print(name_neighbour_50_600)\n"
   ]
  },
  {
   "cell_type": "code",
   "execution_count": null,
   "id": "8887b7a3",
   "metadata": {},
   "outputs": [],
   "source": [
    "#between 300 to 600\n",
    "\n",
    "# Reshape and format the Arabic labels\n",
    "reshaped_labels = [get_display(arabic_reshaper.reshape(label)) for label in name_neighbour_above_50]\n",
    "\n",
    "# Plotting code\n",
    "plt.figure(figsize=(10, 6))  # Set the figure size\n",
    "\n",
    "plt.bar(reshaped_labels, number_of_sales_above_50, label='Neighbourhood',color ='Tan')  # Add label for the legend\n",
    "plt.xlabel('Neighbourhood', fontsize=12)  # Set x-label with font size\n",
    "plt.ylabel('Sales', fontsize=12)  # Set y-label with font size\n",
    "plt.xticks(rotation='vertical')\n",
    "\n",
    "for i, name in enumerate(number_of_sales_above_50):\n",
    "    plt.text(i, name, str(name), ha='center', va='bottom')\n",
    "\n",
    "plt.title('Sales Distribution by Neighbourhood', fontsize=14)  # Add title with font size\n",
    "plt.legend(fontsize=10)  # Add legend with font size\n",
    "\n",
    "plt.show()\n"
   ]
  },
  {
   "cell_type": "code",
   "execution_count": 110,
   "id": "66379662",
   "metadata": {},
   "outputs": [
    {
     "name": "stderr",
     "output_type": "stream",
     "text": [
      "C:\\Users\\hp\\AppData\\Local\\Temp\\ipykernel_15140\\1129688136.py:17: UserWarning: Matplotlib is currently using module://matplotlib_inline.backend_inline, which is a non-GUI backend, so cannot show the figure.\n",
      "  plt.show()\n"
     ]
    }
   ],
   "source": [
    "reshaped_labels2 = [get_display(arabic_reshaper.reshape(label)) for label in name_neighbour_50_600]\n",
    "\n",
    "plt.figure(figsize=(8, 6))  # Set the figure size\n",
    "\n",
    "plt.bar(reshaped_labels2, number_of_sales_50_600, label='Sales',color ='cornflowerblue')  # Plot the bar chart with a label\n",
    "plt.xlabel('Neighbourhood', fontsize=12)  # Set x-label with font size\n",
    "plt.ylabel('Sales', fontsize=12)  # Set y-label with font size\n",
    "plt.xticks(rotation='vertical')\n",
    "\n",
    "for i, name in enumerate(number_of_sales_50_600):\n",
    "    plt.text(i, name, str(name), ha='center', va='bottom')  # Add text annotations to the bars\n",
    "\n",
    "plt.title('Sales Distribution by Neighbourhood', fontsize=14)  # Add title with font size\n",
    "\n",
    "plt.legend()  # Display the legend\n",
    "\n",
    "plt.show()"
   ]
  },
  {
   "cell_type": "code",
   "execution_count": 86,
   "id": "3fe1edfa",
   "metadata": {},
   "outputs": [
    {
     "name": "stderr",
     "output_type": "stream",
     "text": [
      "C:\\Users\\hp\\AppData\\Local\\Temp\\ipykernel_15140\\47425043.py:27: UserWarning: Matplotlib is currently using module://matplotlib_inline.backend_inline, which is a non-GUI backend, so cannot show the figure.\n",
      "  plt.show()\n"
     ]
    }
   ],
   "source": [
    "\n",
    "\n",
    "plt.figure(figsize=(12, 6))  # Adjust the figure size as needed\n",
    "\n",
    "# First subplot: top 50 names\n",
    "plt.subplot(1, 2, 1)\n",
    "plt.bar(reshaped_labels, number_of_sales_above_50,color ='Tan')\n",
    "plt.xlabel('Neighbourhood', fontsize=12)\n",
    "plt.ylabel('Sales', fontsize=12)\n",
    "plt.xticks(rotation='vertical', fontsize=10)\n",
    "plt.title('Neighbourhood Sales 300-600', fontsize=14)\n",
    "plt.tight_layout()  # Adjust spacing within the subplot\n",
    "plt.legend(['Sales'], loc='best')\n",
    "\n",
    "# Second subplot: names with 50 to 600 sales\n",
    "plt.subplot(1, 2, 2)\n",
    "plt.bar(reshaped_labels2, number_of_sales_50_600,color ='cornflowerblue')\n",
    "plt.xlabel('Neighbourhood', fontsize=12)\n",
    "plt.ylabel('Sales', fontsize=12)\n",
    "plt.xticks(rotation='vertical', fontsize=10)\n",
    "plt.title('Neighbourhood Sales >600', fontsize=14)\n",
    "plt.tight_layout()  # Adjust spacing within the subplot\n",
    "plt.legend(['Sales'], loc='best')\n",
    "\n",
    "plt.subplots_adjust(wspace=0.5)  # Adjust spacing between subplots\n",
    "\n",
    "plt.suptitle('Sales by Neighbourhood', fontsize=16, x=0.52, y=1)  # Title for the overall figure\n",
    "\n",
    "plt.show()\n"
   ]
  },
  {
   "cell_type": "code",
   "execution_count": null,
   "id": "13720503",
   "metadata": {},
   "outputs": [],
   "source": [
    "AVE600 = calculate_average_price(name_neighbour_50_600, AreaAbove_600)"
   ]
  },
  {
   "cell_type": "code",
   "execution_count": null,
   "id": "ee277ab3",
   "metadata": {},
   "outputs": [],
   "source": [
    "plt.figure(figsize=(8, 6))  # Adjust the figure size as needed\n",
    "\n",
    "plt.bar(reshaped_labels2, AVE600,color ='cornflowerblue')\n",
    "plt.xlabel('Neighbourhood name', fontsize=12)\n",
    "plt.ylabel('Price per meter', fontsize=12)\n",
    "plt.xticks(rotation='vertical', fontsize=10)\n",
    "plt.title('Average Price per Meter in Neighbourhoods (Above 600)', fontsize=14)\n",
    "\n",
    "for i, name in enumerate(AVE600):\n",
    "    plt.text(i, name, str(round(name)), ha='center', va='bottom')\n",
    "\n",
    "plt.tight_layout()  # Adjust spacing\n",
    "\n",
    "plt.legend(['Price per meter'], loc='best')\n",
    "\n",
    "plt.show()"
   ]
  },
  {
   "cell_type": "code",
   "execution_count": null,
   "id": "c22a9374",
   "metadata": {},
   "outputs": [],
   "source": [
    "AVE300_600 = calculate_average_price(name_neighbour_above_50, AreaBetween300_600)"
   ]
  },
  {
   "cell_type": "code",
   "execution_count": null,
   "id": "6fd8d335",
   "metadata": {},
   "outputs": [],
   "source": [
    "plt.figure(figsize=(12, 6))  # Adjust the figure size as needed\n",
    "\n",
    "plt.bar(reshaped_labels, AVE300_600,color='Tan')\n",
    "plt.xlabel('Neighbourhood name', fontsize=12)\n",
    "plt.ylabel('Price per meter', fontsize=12)\n",
    "plt.xticks(rotation='vertical', fontsize=10)\n",
    "plt.title('Average Price per Meter in Neighbourhoods (Between 300 and 600)', fontsize=14)\n",
    "\n",
    "for i, name in enumerate(AVE300_600):\n",
    "    plt.text(i, name, str(round(name)), ha='center', va='bottom')\n",
    "\n",
    "plt.tight_layout()  # Adjust spacing\n",
    "\n",
    "plt.legend(['Price per meter'], loc='best')\n",
    "\n",
    "plt.show()"
   ]
  },
  {
   "cell_type": "code",
   "execution_count": null,
   "id": "35f84a4c",
   "metadata": {},
   "outputs": [],
   "source": [
    "#chart 1"
   ]
  },
  {
   "cell_type": "code",
   "execution_count": null,
   "id": "35d70808",
   "metadata": {},
   "outputs": [],
   "source": [
    "count_Neighbourhood_t=df_clean['Neighbourhood'].value_counts()\n",
    "landss = count_Neighbourhood_t.head().index.tolist()\n",
    "\n",
    "# Reshape the labels using arabic_reshaper and get_display\n",
    "reshaped_labels = [get_display(arabic_reshaper.reshape(label)) for label in landss]\n",
    "\n",
    "count_Neighbourhood_t.head().plot.bar(fontsize=12, color=('tan', 'oldlace'))\n",
    "plt.title('Top Selling Riyadh Communities Neighbourhood', fontsize=14, weight=\"bold\", color='tan')\n",
    "plt.xticks(range(len(landss)), reshaped_labels, rotation=45, ha='right')\n",
    "\n",
    "plt.show()"
   ]
  },
  {
   "cell_type": "code",
   "execution_count": null,
   "id": "217b5fda",
   "metadata": {},
   "outputs": [],
   "source": [
    "#char 2"
   ]
  },
  {
   "cell_type": "code",
   "execution_count": null,
   "id": "fc1b0da3",
   "metadata": {},
   "outputs": [],
   "source": [
    "count_Neighbourhood_t=df_clean['Neighbourhood'].value_counts()\n",
    "landss = count_Neighbourhood_t.tail(3).index.tolist()\n",
    "\n",
    "# Reshape the labels using arabic_reshaper and get_display\n",
    "reshaped_labels = [get_display(arabic_reshaper.reshape(label)) for label in landss]\n",
    "\n",
    "count_Neighbourhood_t.tail(3).plot.bar(fontsize=12, color=('tan', 'oldlace'))\n",
    "plt.title('Less Selling Riyadh Communities Neighbourhood', fontsize=14, weight=\"bold\", color='tan')\n",
    "plt.xticks(range(len(landss)), reshaped_labels, rotation=45, ha='right')\n",
    "\n",
    "plt.show()"
   ]
  },
  {
   "cell_type": "code",
   "execution_count": null,
   "id": "312f6fec",
   "metadata": {},
   "outputs": [],
   "source": [
    "df3=pd.read_csv(r\"real_state_riyadh.csv\", usecols= ['Total_price','Neighbourhood'], index_col='Neighbourhood')"
   ]
  },
  {
   "cell_type": "code",
   "execution_count": null,
   "id": "f986ce80",
   "metadata": {},
   "outputs": [],
   "source": []
  },
  {
   "cell_type": "code",
   "execution_count": null,
   "id": "d1b422b6",
   "metadata": {},
   "outputs": [],
   "source": [
    "neighborhoods = df3.nlargest(n=4, columns=['Total_price']).index.tolist()\n",
    "\n",
    "\n",
    "reshaped_labels = [get_display(arabic_reshaper.reshape(label)) for label in neighborhoods]\n",
    "\n",
    "df3.nlargest(n=4, columns=['Total_price']).plot.bar(fontsize=13, color=('tan','wheat'))\n",
    "plt.title('The most hight price selling of the lands', fontsize=14, weight=\"bold\", color='tan')\n",
    "plt.xticks(range(len(neighborhoods)), reshaped_labels, rotation=0, ha='center')\n",
    "plt.show()"
   ]
  },
  {
   "cell_type": "code",
   "execution_count": null,
   "id": "751fed7c",
   "metadata": {},
   "outputs": [],
   "source": []
  },
  {
   "cell_type": "code",
   "execution_count": null,
   "id": "1c4affd0",
   "metadata": {},
   "outputs": [],
   "source": []
  },
  {
   "cell_type": "code",
   "execution_count": null,
   "id": "7528f60b",
   "metadata": {},
   "outputs": [],
   "source": []
  },
  {
   "cell_type": "code",
   "execution_count": null,
   "id": "d0fb0d29",
   "metadata": {},
   "outputs": [],
   "source": []
  }
 ],
 "metadata": {
  "kernelspec": {
   "display_name": "Python 3 (ipykernel)",
   "language": "python",
   "name": "python3"
  },
  "language_info": {
   "codemirror_mode": {
    "name": "ipython",
    "version": 3
   },
   "file_extension": ".py",
   "mimetype": "text/x-python",
   "name": "python",
   "nbconvert_exporter": "python",
   "pygments_lexer": "ipython3",
   "version": "3.10.9"
  },
  "vscode": {
   "interpreter": {
    "hash": "bdf603378775d7f7fdfc3693152b0c93d0fa2796c4929420373ca679d9644cd1"
   }
  }
 },
 "nbformat": 4,
 "nbformat_minor": 5
}
